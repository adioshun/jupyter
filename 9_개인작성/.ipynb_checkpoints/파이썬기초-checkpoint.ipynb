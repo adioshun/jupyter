{
 "cells": [
  {
   "cell_type": "markdown",
   "metadata": {
    "deletable": true,
    "editable": true
   },
   "source": [
    "# 파이손 기초 \n",
    "- 참고 : [점프 투 파이썬](https://wikidocs.net/book/1)"
   ]
  },
  {
   "cell_type": "code",
   "execution_count": 8,
   "metadata": {
    "collapsed": false,
    "deletable": true,
    "editable": true
   },
   "outputs": [
    {
     "ename": "NameError",
     "evalue": "name 'system' is not defined",
     "output_type": "error",
     "traceback": [
      "\u001b[0;31m---------------------------------------------------------------------------\u001b[0m",
      "\u001b[0;31mNameError\u001b[0m                                 Traceback (most recent call last)",
      "\u001b[0;32m<ipython-input-8-d5d4ef0ccc52>\u001b[0m in \u001b[0;36m<module>\u001b[0;34m()\u001b[0m\n\u001b[1;32m      3\u001b[0m \u001b[0mdefault_path\u001b[0m \u001b[0;34m=\u001b[0m \u001b[0;34m'/home/adioshun/Jupyter/9_개인작성/SDC/udacity-driverless-car-nd-p2/submission(notebook+html)/002'\u001b[0m\u001b[0;34m\u001b[0m\u001b[0m\n\u001b[1;32m      4\u001b[0m \u001b[0mos\u001b[0m\u001b[0;34m.\u001b[0m\u001b[0mchdir\u001b[0m\u001b[0;34m(\u001b[0m\u001b[0mdefault_path\u001b[0m\u001b[0;34m)\u001b[0m\u001b[0;34m\u001b[0m\u001b[0m\n\u001b[0;32m----> 5\u001b[0;31m \u001b[0msystem\u001b[0m\u001b[0;34m(\u001b[0m\u001b[0;34m\"pwd\"\u001b[0m\u001b[0;34m)\u001b[0m\u001b[0;34m\u001b[0m\u001b[0m\n\u001b[0m",
      "\u001b[0;31mNameError\u001b[0m: name 'system' is not defined"
     ]
    }
   ],
   "source": [
    "import os\n",
    "#print os.getcwd()\n",
    "default_path = '/home/adioshun/Jupyter/9_개인작성/SDC/udacity-driverless-car-nd-p2/submission(notebook+html)/002'\n",
    "os.chdir(default_path)\n",
    "system(\"pwd\")\n",
    "%matplotlib inline"
   ]
  },
  {
   "cell_type": "markdown",
   "metadata": {
    "deletable": true,
    "editable": true
   },
   "source": [
    "# 도움말보기"
   ]
  },
  {
   "cell_type": "code",
   "execution_count": 10,
   "metadata": {
    "collapsed": false,
    "deletable": true,
    "editable": true
   },
   "outputs": [
    {
     "name": "stdout",
     "output_type": "stream",
     "text": [
      "add(x1, x2[, out])\n",
      "\n",
      "Add arguments element-wise.\n",
      "\n",
      "Parameters\n",
      "----------\n",
      "x1, x2 : array_like\n",
      "    The arrays to be added.  If ``x1.shape != x2.shape``, they must be\n",
      "    broadcastable to a common shape (which may be the shape of one or\n",
      "    the other).\n",
      "\n",
      "Returns\n",
      "-------\n",
      "add : ndarray or scalar\n",
      "    The sum of `x1` and `x2`, element-wise.  Returns a scalar if\n",
      "    both  `x1` and `x2` are scalars.\n",
      "\n",
      "Notes\n",
      "-----\n",
      "Equivalent to `x1` + `x2` in terms of array broadcasting.\n",
      "\n",
      "Examples\n",
      "--------\n",
      ">>> np.add(1.0, 4.0)\n",
      "5.0\n",
      ">>> x1 = np.arange(9.0).reshape((3, 3))\n",
      ">>> x2 = np.arange(3.0)\n",
      ">>> np.add(x1, x2)\n",
      "array([[  0.,   2.,   4.],\n",
      "       [  3.,   5.,   7.],\n",
      "       [  6.,   8.,  10.]])\n"
     ]
    }
   ],
   "source": [
    "# 도움말 보기 \n",
    "import numpy\n",
    "numpy.info(numpy.add)"
   ]
  },
  {
   "cell_type": "markdown",
   "metadata": {
    "deletable": true,
    "editable": true
   },
   "source": [
    "# enumerate() \n",
    "For문을 사용할때 Index스도 같이 알고 싶을때 사용"
   ]
  },
  {
   "cell_type": "code",
   "execution_count": 1,
   "metadata": {
    "collapsed": false,
    "deletable": true,
    "editable": true
   },
   "outputs": [
    {
     "name": "stdout",
     "output_type": "stream",
     "text": [
      "3\n",
      "7\n",
      "-1\n",
      "5\n"
     ]
    }
   ],
   "source": [
    "num_list = [3, 7, -1, 5]\n",
    "for num in num_list : \n",
    "    print(num)"
   ]
  },
  {
   "cell_type": "code",
   "execution_count": 4,
   "metadata": {
    "collapsed": false,
    "deletable": true,
    "editable": true
   },
   "outputs": [
    {
     "name": "stdout",
     "output_type": "stream",
     "text": [
      "0 3\n",
      "1 7\n",
      "2 -1\n",
      "3 5\n"
     ]
    }
   ],
   "source": [
    "num_list = [3, 7, -1, 5]\n",
    "for index, num in enumerate(num_list) :\n",
    "    print(index , num)"
   ]
  },
  {
   "cell_type": "markdown",
   "metadata": {
    "deletable": true,
    "editable": true
   },
   "source": [
    "# 파일 읽고 쓰기 "
   ]
  },
  {
   "cell_type": "code",
   "execution_count": 26,
   "metadata": {
    "collapsed": false,
    "deletable": true,
    "editable": true
   },
   "outputs": [
    {
     "name": "stdout",
     "output_type": "stream",
     "text": [
      "0 SignName\n",
      "1 Speed limit (20km/h)\n",
      "2 Speed limit (30km/h)\n",
      "3 Speed limit (50km/h)\n",
      "4 Speed limit (60km/h)\n",
      "5 Speed limit (70km/h)\n",
      "6 Speed limit (80km/h)\n",
      "7 End of speed limit (80km/h)\n",
      "8 Speed limit (100km/h)\n",
      "9 Speed limit (120km/h)\n",
      "10 No passing\n",
      "11 No passing for vehicles over 3.5 metric tons\n",
      "12 Right-of-way at the next intersection\n",
      "13 Priority road\n",
      "14 Yield\n",
      "15 Stop\n",
      "16 No vehicles\n",
      "17 Vehicles over 3.5 metric tons prohibited\n",
      "18 No entry\n",
      "19 General caution\n",
      "20 Dangerous curve to the left\n",
      "21 Dangerous curve to the right\n",
      "22 Double curve\n",
      "23 Bumpy road\n",
      "24 Slippery road\n",
      "25 Road narrows on the right\n",
      "26 Road work\n",
      "27 Traffic signals\n",
      "28 Pedestrians\n",
      "29 Children crossing\n",
      "30 Bicycles crossing\n",
      "31 Beware of ice/snow\n",
      "32 Wild animals crossing\n",
      "33 End of all speed and passing limits\n",
      "34 Turn right ahead\n",
      "35 Turn left ahead\n",
      "36 Ahead only\n",
      "37 Go straight or right\n",
      "38 Go straight or left\n",
      "39 Keep right\n",
      "40 Keep left\n",
      "41 Roundabout mandatory\n",
      "42 End of no passing\n",
      "43 End of no passing by vehicles over 3.5 metric tons\n"
     ]
    }
   ],
   "source": [
    "matrix = []\n",
    "f = open('./data/signnames.csv', mode='r') ## r= 읽기모드, b=이진모드\n",
    "rows = csv.reader(f, delimiter=',')\n",
    "for i, row in enumerate(rows):\n",
    "    matrix.append(row[1])\n",
    "    print(i,row[1])\n",
    "f.close() # 자동으로 하려면 __with open() as f:__사용"
   ]
  },
  {
   "cell_type": "markdown",
   "metadata": {
    "collapsed": true,
    "deletable": true,
    "editable": true
   },
   "source": [
    "# Class 생성"
   ]
  },
  {
   "cell_type": "code",
   "execution_count": 1,
   "metadata": {
    "collapsed": false,
    "deletable": true,
    "editable": true
   },
   "outputs": [
    {
     "name": "stdout",
     "output_type": "stream",
     "text": [
      "Hello, Fred\n",
      "HELLO, FRED!\n"
     ]
    }
   ],
   "source": [
    "class Greeter:\n",
    "\n",
    "    # Constructor\n",
    "    def __init__(self, name):\n",
    "        self.name = name  # Create an instance variable\n",
    "\n",
    "    # Instance method\n",
    "    def greet(self, loud=False):\n",
    "        if loud:\n",
    "            print ('HELLO, %s!' \n",
    "                   % self.name.upper())\n",
    "        else:\n",
    "            print ('Hello, %s' \n",
    "                   % self.name)\n",
    "\n",
    "g = Greeter('Fred')  # Construct an instance of the Greeter class\n",
    "g.greet()            # Call an instance method; prints \"Hello, Fred\"\n",
    "g.greet(loud=True)   # Call an instance method; prints \"HELLO, FRED!\""
   ]
  }
 ],
 "metadata": {
  "kernelspec": {
   "display_name": "Python 2",
   "language": "python",
   "name": "python2"
  },
  "language_info": {
   "codemirror_mode": {
    "name": "ipython",
    "version": 2
   },
   "file_extension": ".py",
   "mimetype": "text/x-python",
   "name": "python",
   "nbconvert_exporter": "python",
   "pygments_lexer": "ipython2",
   "version": "2.7.12"
  },
  "toc": {
   "colors": {
    "hover_highlight": "#DAA520",
    "running_highlight": "#FF0000",
    "selected_highlight": "#FFD700"
   },
   "moveMenuLeft": true,
   "nav_menu": {
    "height": "66px",
    "width": "252px"
   },
   "navigate_menu": true,
   "number_sections": true,
   "sideBar": true,
   "threshold": 4,
   "toc_cell": false,
   "toc_section_display": "block",
   "toc_window_display": true
  }
 },
 "nbformat": 4,
 "nbformat_minor": 2
}
