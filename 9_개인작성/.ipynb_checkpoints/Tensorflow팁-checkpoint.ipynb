{
 "cells": [
  {
   "cell_type": "markdown",
   "metadata": {
    "deletable": true,
    "editable": true
   },
   "source": [
    "# 실행 결과 바로 보기 \n",
    "- [파이썬_킴](http://pythonkim.tistory.com/62 )\n",
    "- 텐서플로우를 익히려면 Tensor 객체에 들어간 값의 확인이 첫 번째다."
   ]
  },
  {
   "cell_type": "code",
   "execution_count": 4,
   "metadata": {
    "collapsed": true,
    "deletable": true,
    "editable": true
   },
   "outputs": [],
   "source": [
    "# functions.py\n",
    "\n",
    "import tensorflow as tf\n",
    "import functools, operator\n",
    "\n",
    "def getLength(t):\n",
    "    temp = (dim.value for dim in t.get_shape())         # dim is Dimension class.\n",
    "    return functools.reduce(operator.mul, temp)\n",
    "\n",
    "def showConstant(t):\n",
    "    sess = tf.InteractiveSession()\n",
    "    print(t.eval())\n",
    "    sess.close()\n",
    "\n",
    "def showConstantDetail(t):\n",
    "    sess = tf.InteractiveSession()\n",
    "    print(t.eval())\n",
    "    print('shape :', tf.shape(t))\n",
    "    print('size  :', tf.size(t))\n",
    "    print('rank  :', tf.rank(t))\n",
    "    print(t.get_shape())\n",
    "\n",
    "    sess.close()\n",
    "\n",
    "def showVariable(v):\n",
    "    sess = tf.InteractiveSession()\n",
    "    v.initializer.run()\n",
    "    print(v.eval())\n",
    "    sess.close()\n",
    "\n",
    "def var2Numpy(v):\n",
    "    sess = tf.InteractiveSession()\n",
    "    v.initializer.run()\n",
    "    n = v.eval()\n",
    "    sess.close()\n",
    "\n",
    "    return n\n",
    "\n",
    "def op2Numpy(op):\n",
    "    sess = tf.InteractiveSession()\n",
    "    init = tf.initialize_all_variables()\n",
    "    sess.run(init)\n",
    "    ret = sess.run(op)\n",
    "    sess.close()\n",
    "\n",
    "    return ret\n",
    "\n",
    "def showOperation(op):\n",
    "    print(op2Numpy(op))"
   ]
  },
  {
   "cell_type": "code",
   "execution_count": 5,
   "metadata": {
    "collapsed": false,
    "deletable": true,
    "editable": true
   },
   "outputs": [
    {
     "name": "stdout",
     "output_type": "stream",
     "text": [
      "[3]\n"
     ]
    }
   ],
   "source": [
    "#import functions\n",
    "c1, c2 = tf.constant([3]), tf.constant([1, 5])\n",
    "showConstant(c1)"
   ]
  },
  {
   "cell_type": "markdown",
   "metadata": {
    "collapsed": true,
    "deletable": true,
    "editable": true
   },
   "source": [
    "# Weight / Bias 지정 "
   ]
  },
  {
   "cell_type": "code",
   "execution_count": 1,
   "metadata": {
    "collapsed": false
   },
   "outputs": [
    {
     "ename": "NameError",
     "evalue": "name 'tf' is not defined",
     "output_type": "error",
     "traceback": [
      "\u001b[0;31m\u001b[0m",
      "\u001b[0;31mNameError\u001b[0mTraceback (most recent call last)",
      "\u001b[0;32m<ipython-input-1-dbdc484e54e2>\u001b[0m in \u001b[0;36m<module>\u001b[0;34m()\u001b[0m\n\u001b[0;32m----> 1\u001b[0;31m \u001b[0mz\u001b[0m \u001b[0;34m=\u001b[0m \u001b[0mtf\u001b[0m\u001b[0;34m.\u001b[0m\u001b[0mplaceholder\u001b[0m\u001b[0;34m(\u001b[0m\u001b[0;34m'float'\u001b[0m\u001b[0;34m,\u001b[0m \u001b[0mshape\u001b[0m\u001b[0;34m=\u001b[0m\u001b[0;34m(\u001b[0m\u001b[0mNone\u001b[0m\u001b[0;34m,\u001b[0m \u001b[0mz_size\u001b[0m\u001b[0;34m)\u001b[0m\u001b[0;34m)\u001b[0m\u001b[0;34m\u001b[0m\u001b[0m\n\u001b[0m\u001b[1;32m      2\u001b[0m \u001b[0;34m\u001b[0m\u001b[0m\n\u001b[1;32m      3\u001b[0m weights = {\n\u001b[1;32m      4\u001b[0m \u001b[0;34m'w1'\u001b[0m\u001b[0;34m:\u001b[0m \u001b[0mtf\u001b[0m\u001b[0;34m.\u001b[0m\u001b[0mVariable\u001b[0m\u001b[0;34m(\u001b[0m\u001b[0mtf\u001b[0m\u001b[0;34m.\u001b[0m\u001b[0mrandom_normal\u001b[0m\u001b[0;34m(\u001b[0m\u001b[0mshape\u001b[0m\u001b[0;34m=\u001b[0m\u001b[0;34m(\u001b[0m\u001b[0mz_size\u001b[0m\u001b[0;34m,\u001b[0m \u001b[0mg_w1_size\u001b[0m\u001b[0;34m)\u001b[0m\u001b[0;34m,\u001b[0m \u001b[0mstddev\u001b[0m\u001b[0;34m=\u001b[0m\u001b[0;36m1\u001b[0m\u001b[0;34m/\u001b[0m\u001b[0mshape\u001b[0m\u001b[0;34m[\u001b[0m\u001b[0;36m0\u001b[0m\u001b[0;34m]\u001b[0m\u001b[0;34m)\u001b[0m\u001b[0;34m)\u001b[0m\u001b[0;34m,\u001b[0m\u001b[0;34m\u001b[0m\u001b[0m\n\u001b[1;32m      5\u001b[0m \u001b[0;34m'b1'\u001b[0m\u001b[0;34m:\u001b[0m \u001b[0mtf\u001b[0m\u001b[0;34m.\u001b[0m\u001b[0mVariable\u001b[0m\u001b[0;34m(\u001b[0m\u001b[0mtf\u001b[0m\u001b[0;34m.\u001b[0m\u001b[0mzeros\u001b[0m\u001b[0;34m(\u001b[0m\u001b[0mshape\u001b[0m\u001b[0;34m=\u001b[0m\u001b[0;34m[\u001b[0m\u001b[0mg_w1_size\u001b[0m\u001b[0;34m]\u001b[0m\u001b[0;34m)\u001b[0m\u001b[0;34m)\u001b[0m\u001b[0;34m,\u001b[0m\u001b[0;34m\u001b[0m\u001b[0m\n",
      "\u001b[0;31mNameError\u001b[0m: name 'tf' is not defined"
     ]
    }
   ],
   "source": [
    "z = tf.placeholder('float', shape=(None, z_size))\n",
    "\n",
    "weights = {\n",
    "'w1': tf.Variable(tf.random_normal(shape=(z_size, g_w1_size), stddev=1/shape[0])),\n",
    "'b1': tf.Variable(tf.zeros(shape=[g_w1_size])),\n",
    "'out': tf.Variable(tf.random_normal(shape=(g_w1_size, g_out_size), stddev=1/shape[0])),\n",
    "'b2': tf.Variable(tf.zeros(shape=[g_out_size])),\n",
    "}\n",
    "\n",
    "def G(z, w=weights):\n",
    "    h1 = tf.nn.relu(tf.matmul(z, w['w1']) + w['b1'])\n",
    "    return tf.sigmoid(tf.matmul(h1, w['out']) + w['b2'])"
   ]
  },
  {
   "cell_type": "markdown",
   "metadata": {},
   "source": [
    "# get_collection\n",
    "http://eyeofneedle.tistory.com/24"
   ]
  },
  {
   "cell_type": "code",
   "execution_count": null,
   "metadata": {
    "collapsed": true
   },
   "outputs": [],
   "source": []
  }
 ],
 "metadata": {
  "kernelspec": {
   "display_name": "Python 2",
   "language": "python",
   "name": "python2"
  },
  "language_info": {
   "codemirror_mode": {
    "name": "ipython",
    "version": 2
   },
   "file_extension": ".py",
   "mimetype": "text/x-python",
   "name": "python",
   "nbconvert_exporter": "python",
   "pygments_lexer": "ipython2",
   "version": "2.7.12"
  },
  "toc": {
   "colors": {
    "hover_highlight": "#DAA520",
    "running_highlight": "#FF0000",
    "selected_highlight": "#FFD700"
   },
   "moveMenuLeft": true,
   "nav_menu": {
    "height": "30px",
    "width": "252px"
   },
   "navigate_menu": true,
   "number_sections": true,
   "sideBar": true,
   "threshold": 4,
   "toc_cell": false,
   "toc_section_display": "block",
   "toc_window_display": false
  }
 },
 "nbformat": 4,
 "nbformat_minor": 2
}
