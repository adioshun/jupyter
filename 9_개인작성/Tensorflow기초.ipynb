{
 "cells": [
  {
   "cell_type": "markdown",
   "metadata": {
    "deletable": true,
    "editable": true
   },
   "source": [
    "# 값 생성"
   ]
  },
  {
   "cell_type": "markdown",
   "metadata": {},
   "source": [
    "## 상수 생성"
   ]
  },
  {
   "cell_type": "code",
   "execution_count": 5,
   "metadata": {
    "collapsed": false
   },
   "outputs": [],
   "source": [
    "import tensorflow as tf\n",
    "a = tf.constant(5.0) \n",
    "matrix1 = tf.constant([[3., 3.]]) # Create a Constant op that produces a 1x2 matrix\n",
    "matrix2 = tf.constant([[2.],[2.]]) # Create another Constant that produces a 2x1 matrix."
   ]
  },
  {
   "cell_type": "markdown",
   "metadata": {},
   "source": [
    "## 변수 생성 - Variable\n"
   ]
  },
  {
   "cell_type": "code",
   "execution_count": 6,
   "metadata": {
    "collapsed": true
   },
   "outputs": [],
   "source": [
    "W = tf.Variable(tf.random_normal([3, 2]), name='Weights')\n",
    "b = tf.Variable(tf.random_normal([2, 1]), name='Bias')"
   ]
  },
  {
   "cell_type": "markdown",
   "metadata": {},
   "source": [
    "- tf.Variable: 그래프를 계산하면서 최적화 할 변수들입니다. 이 값이 바로 신경망을 좌우하는 값들입니다.\n",
    "- tf.random_normal: 각 변수들의 초기값을 정규분포 랜덤 값으로 초기화합니다.\n",
    "- name: 나중에 텐서보드등으로 값의 변화를 추적하거나 살펴보기 쉽게 하기 위해 이름을 붙여줍니다."
   ]
  },
  {
   "cell_type": "markdown",
   "metadata": {},
   "source": [
    "## 변수 생성 - Placeholder"
   ]
  },
  {
   "cell_type": "code",
   "execution_count": 7,
   "metadata": {
    "collapsed": true
   },
   "outputs": [],
   "source": [
    "X = tf.placeholder(\"float\", [None, 3])"
   ]
  },
  {
   "cell_type": "markdown",
   "metadata": {},
   "source": [
    "- tf.placeholder: 계산을 실행할 때 입력값을 받는 변수로 사용합니다.\n",
    "- None 은 크기가 정해지지 않았음을 의미합니다."
   ]
  },
  {
   "cell_type": "code",
   "execution_count": null,
   "metadata": {
    "collapsed": true
   },
   "outputs": [],
   "source": []
  },
  {
   "cell_type": "code",
   "execution_count": null,
   "metadata": {
    "collapsed": true
   },
   "outputs": [],
   "source": []
  },
  {
   "cell_type": "code",
   "execution_count": null,
   "metadata": {
    "collapsed": true
   },
   "outputs": [],
   "source": []
  },
  {
   "cell_type": "code",
   "execution_count": null,
   "metadata": {
    "collapsed": true
   },
   "outputs": [],
   "source": [
    "# else \n",
    "```\n",
    "tf.zeros(shape, dtype = , name = )\n",
    "tf.ones(shape, dtype = , name = ) \n",
    "tf.random_normal(shape, mean = , stddev = , dtype = , seed = , name = ) \n",
    "tf.truncated_normal(shape, mean = , stddev = , dtype = , seed = , name = ) \n",
    "tf.random_uniform(shape, minval = , maxval = , dtype = , seed = , name = ) \n",
    "tf.random_shuffle(value, seed = , name = ) "
   ]
  },
  {
   "cell_type": "code",
   "execution_count": null,
   "metadata": {
    "collapsed": true
   },
   "outputs": [],
   "source": []
  },
  {
   "cell_type": "code",
   "execution_count": null,
   "metadata": {
    "collapsed": true
   },
   "outputs": [],
   "source": []
  },
  {
   "cell_type": "code",
   "execution_count": null,
   "metadata": {
    "collapsed": true
   },
   "outputs": [],
   "source": []
  },
  {
   "cell_type": "markdown",
   "metadata": {
    "deletable": true,
    "editable": true
   },
   "source": [
    "# 텐서플로우 관련 함수"
   ]
  },
  {
   "cell_type": "markdown",
   "metadata": {
    "deletable": true,
    "editable": true
   },
   "source": [
    "## 2. 수학함수\n",
    "|함수|설명|\n",
    "|-|-|\n",
    "|tf.add|덧셈|\n",
    "|tf.square|제곱|\n",
    "\n",
    "참고 : 텐서플로우첫걸음, 42p"
   ]
  },
  {
   "cell_type": "markdown",
   "metadata": {
    "deletable": true,
    "editable": true
   },
   "source": [
    "## 3. 행렬연삼함수\n",
    "|함수|설명|\n",
    "|-|-|\n",
    "|tf.diag|대각행렬 리턴|\n",
    "|tf.matmul|핼렬곱 리턴|\n",
    "\n",
    "참고 : 텐서플로우첫걸음, 43p"
   ]
  },
  {
   "cell_type": "markdown",
   "metadata": {
    "deletable": true,
    "editable": true
   },
   "source": [
    "## 4. 주요 변환 함수\n",
    "||함수|설명|\n",
    "|-|-|-|\n",
    "|1|tf.slice|텐서의 일부분 삭제|\n",
    "|2|tf.expand_dims|텐서의 차원을 추가|\n",
    "||tf.shape |텐서의 구조를 알아냅니다.\n",
    "||tf.size |텐서의 크기를 알아냅니다.\n",
    "||tf.rank |텐서의 랭크를 알아냅니다.\n",
    "||tf.reshape |텐서의 엘리먼트(element)는 그대로 유지하면서 텐서의 구조를 바꿉니다.\n",
    "||tf.squeeze |텐서에서 크기가 1인 차원을 삭제합니다.\n",
    "||tf.expand_dims |텐서에 차원을 추가합니다.\n",
    "||tf.slice |텐서의 일부분을 삭제합니다.\n",
    "||tf.split |텐서를 한 차원을 기준으로 여러개의 텐서로 나눕니다.\n",
    "||tf.tile |한 텐서를 여러번 중복으로 늘려 새 텐서를 만듭니다.\n",
    "||tf.concat |한 차원을 기준으로 텐서를 이어 붙입니다.\n",
    "||tf.reverse |텐서의 지정된 차원을 역전시킵니다.\n",
    "||tf.transpose |텐서를 전치(transpose)시킵니다.\n",
    "||tf.gather |주어진 인덱스에 따라 텐서의 엘리먼트를 모읍니다.\n",
    "\n",
    "참고 : 텐서플로우첫걸음, 67p"
   ]
  },
  {
   "cell_type": "markdown",
   "metadata": {
    "deletable": true,
    "editable": true
   },
   "source": [
    "### 4.1 tf.slice() 텐서의 일부분 삭제\n",
    "tf.slice(input_, begin, size, name=None)\n",
    "\n",
    "Args:\n",
    "* input_: 입력, A Tensor.\n",
    "* begin: 시작 위치, An int32 or int64 Tensor.\n",
    "* size: 크기, An int32 or int64 Tensor.\n",
    "* name: 옵션, A name for the operation (optional).\n",
    "\n",
    "Returns:\n",
    "* A Tensor the same type as input."
   ]
  },
  {
   "cell_type": "code",
   "execution_count": 8,
   "metadata": {
    "collapsed": false,
    "deletable": true,
    "editable": true
   },
   "outputs": [
    {
     "name": "stdout",
     "output_type": "stream",
     "text": [
      "[[1 2]\n",
      " [3 4]\n",
      " [5 6]]\n"
     ]
    }
   ],
   "source": [
    "import numpy as np\n",
    "import pandas as pd\n",
    "import tensorflow as tf\n",
    "\n",
    "ph = tf.placeholder(shape=[None,3], dtype=tf.int32)\n",
    "\n",
    "x = tf.slice(ph, [0, 0], [3, 2])\n",
    "\n",
    "input_ = np.array([[1,2,3],\n",
    "                   [3,4,5],\n",
    "                   [5,6,7]])\n",
    "\n",
    "with tf.Session() as sess:\n",
    "        sess.run(tf.global_variables_initializer())\n",
    "        print sess.run(x, feed_dict={ph: input_})"
   ]
  },
  {
   "cell_type": "markdown",
   "metadata": {
    "deletable": true,
    "editable": true
   },
   "source": [
    "### 4.2 tf.expand_dims() 텐서의 차원을 확장\n",
    "tf.expand_dims(input, axis=None, name=None, dim=None)\n",
    "\n",
    "Args:\n",
    "* input: A Tensor.\n",
    "* axis: 0-D (scalar). 차원을 추가할 곳, Specifies the dimension index at which to expand the shape of input.\n",
    "* name: The name of the output Tensor.\n",
    "* dim: 0-D (scalar). Equivalent to axis, to be deprecated.\n",
    "\n",
    "Returns:\n",
    "*  A Tensor with the same data as input, but its shape has an additional dimension of size 1 added.\n",
    "\n",
    "> cf. squeeze(), which removes dimensions of size 1.\n",
    "> ValueError: if both dim and axis are specified.\n",
    "\n",
    "> 참고 : https://www.tensorflow.org/api_docs/python/array_ops/shapes_and_shaping#expand_dims"
   ]
  },
  {
   "cell_type": "code",
   "execution_count": 7,
   "metadata": {
    "collapsed": false,
    "deletable": true,
    "editable": true
   },
   "outputs": [
    {
     "name": "stdout",
     "output_type": "stream",
     "text": [
      "[[2]\n",
      " [2]]\n"
     ]
    }
   ],
   "source": [
    "import numpy as np\n",
    "import pandas as pd\n",
    "import tensorflow as tf\n",
    "\n",
    "matrix2 = tf.constant([[2],[2]])\n",
    "#matrix2.get_shape()\n",
    "\n",
    "with tf.Session() as sess:\n",
    "        sess.run(tf.global_variables_initializer())\n",
    "        print sess.run(matrix2)"
   ]
  },
  {
   "cell_type": "markdown",
   "metadata": {
    "collapsed": true,
    "deletable": true,
    "editable": true
   },
   "source": [
    "# TensorFlow 기본 동작"
   ]
  },
  {
   "cell_type": "code",
   "execution_count": 3,
   "metadata": {
    "collapsed": false,
    "deletable": true,
    "editable": true
   },
   "outputs": [
    {
     "ename": "NameError",
     "evalue": "name 'y' is not defined",
     "output_type": "error",
     "traceback": [
      "\u001b[0;31m---------------------------------------------------------------------------\u001b[0m",
      "\u001b[0;31mNameError\u001b[0m                                 Traceback (most recent call last)",
      "\u001b[0;32m<ipython-input-3-73f563fa9e78>\u001b[0m in \u001b[0;36m<module>\u001b[0;34m()\u001b[0m\n\u001b[1;32m      8\u001b[0m \u001b[0;34m\u001b[0m\u001b[0m\n\u001b[1;32m      9\u001b[0m \u001b[0;32mfor\u001b[0m \u001b[0mstep\u001b[0m \u001b[0;32min\u001b[0m \u001b[0mxrange\u001b[0m\u001b[0;34m(\u001b[0m\u001b[0;36m100\u001b[0m\u001b[0;34m)\u001b[0m\u001b[0;34m:\u001b[0m\u001b[0;34m\u001b[0m\u001b[0m\n\u001b[0;32m---> 10\u001b[0;31m     \u001b[0msess\u001b[0m\u001b[0;34m.\u001b[0m\u001b[0mrun\u001b[0m\u001b[0;34m(\u001b[0m\u001b[0mtf\u001b[0m\u001b[0;34m.\u001b[0m\u001b[0mtrain\u001b[0m\u001b[0;34m.\u001b[0m\u001b[0mGradientDescentOptimizer\u001b[0m\u001b[0;34m(\u001b[0m\u001b[0mlearning_rate\u001b[0m\u001b[0;34m=\u001b[0m\u001b[0;36m0.5\u001b[0m\u001b[0;34m)\u001b[0m\u001b[0;34m.\u001b[0m\u001b[0mminimize\u001b[0m\u001b[0;34m(\u001b[0m\u001b[0mloss\u001b[0m\u001b[0;34m=\u001b[0m\u001b[0mtf\u001b[0m\u001b[0;34m.\u001b[0m\u001b[0mreduce_mean\u001b[0m\u001b[0;34m(\u001b[0m\u001b[0mtf\u001b[0m\u001b[0;34m.\u001b[0m\u001b[0msquare\u001b[0m\u001b[0;34m(\u001b[0m\u001b[0my\u001b[0m\u001b[0;34m-\u001b[0m\u001b[0my_data\u001b[0m\u001b[0;34m)\u001b[0m\u001b[0;34m)\u001b[0m\u001b[0;34m)\u001b[0m\u001b[0;34m)\u001b[0m\u001b[0;34m\u001b[0m\u001b[0m\n\u001b[0m",
      "\u001b[0;31mNameError\u001b[0m: name 'y' is not defined"
     ]
    }
   ],
   "source": [
    "import tensorflow as tf\n",
    "\n",
    "\n",
    " \n",
    "init = tf.global_variables_initializer()\n",
    "\n",
    "sess = tf.Session()\n",
    "\n",
    "for step in xrange(100):\n",
    "    sess.run(tf.train.GradientDescentOptimizer(learning_rate=0.5).minimize(loss=tf.reduce_mean(tf.square(y-y_data))))\n"
   ]
  },
  {
   "cell_type": "code",
   "execution_count": 6,
   "metadata": {
    "collapsed": false,
    "deletable": true,
    "editable": true
   },
   "outputs": [
    {
     "name": "stdout",
     "output_type": "stream",
     "text": [
      "30.0\n"
     ]
    }
   ],
   "source": [
    "import tensorflow as tf\n",
    "\n",
    "a = tf.constant(5.0)\n",
    "b = tf.constant(6.0)\n",
    "c = tf.multiply(a,b)\n",
    "\n",
    "\n",
    "sess = tf.Session()\n",
    "\n",
    "print(sess.run(c))\n",
    "sess.close()\n"
   ]
  },
  {
   "cell_type": "code",
   "execution_count": 7,
   "metadata": {
    "collapsed": false,
    "deletable": true,
    "editable": true
   },
   "outputs": [
    {
     "name": "stdout",
     "output_type": "stream",
     "text": [
      "30.0\n"
     ]
    }
   ],
   "source": [
    "import tensorflow as tf\n",
    "\n",
    "a = tf.placeholder(\"float\")\n",
    "b = tf.placeholder(\"float\")\n",
    "\n",
    "c = tf.multiply(a,b)\n",
    "\n",
    "sess = tf.Session()\n",
    "\n",
    "print(sess.run(c, feed_dict={a:5, b:6}))\n",
    "sess.close()\n"
   ]
  },
  {
   "cell_type": "code",
   "execution_count": 8,
   "metadata": {
    "collapsed": true,
    "deletable": true,
    "editable": true
   },
   "outputs": [],
   "source": [
    "import tensorflow as tf\n",
    "sess = tf.InteractiveSession()\n",
    "\n",
    "tf.global_variables_initializer().run()\n",
    "# variable을 초기화 시켜줍니다\n",
    "# interactive session이기 때문에 operation.run() 하면 됩니다\n",
    "\n",
    "train_accuracy = accuracy.eval(feed_dict={x:batch[0], y_: batch[1], keep_prob: 1.0})"
   ]
  },
  {
   "cell_type": "markdown",
   "metadata": {
    "deletable": true,
    "editable": true
   },
   "source": [
    "- InteractiveSession은 현재 열린 세션을 default 세션으로 인식하기 때문에\n",
    "- sess.run()을 통해 결과값을 얻지 않아도 되고 Tensor.eval()로 바로 값을 구하거나\n",
    "- Operation.run()을 통해 함수를 돌릴 수 있습니다\n"
   ]
  }
 ],
 "metadata": {
  "kernelspec": {
   "display_name": "Python 2",
   "language": "python",
   "name": "python2"
  },
  "language_info": {
   "codemirror_mode": {
    "name": "ipython",
    "version": 2
   },
   "file_extension": ".py",
   "mimetype": "text/x-python",
   "name": "python",
   "nbconvert_exporter": "python",
   "pygments_lexer": "ipython2",
   "version": "2.7.12"
  },
  "toc": {
   "colors": {
    "hover_highlight": "#DAA520",
    "running_highlight": "#FF0000",
    "selected_highlight": "#FFD700"
   },
   "moveMenuLeft": true,
   "nav_menu": {
    "height": "192px",
    "width": "252px"
   },
   "navigate_menu": true,
   "number_sections": true,
   "sideBar": true,
   "threshold": 4,
   "toc_cell": false,
   "toc_section_display": "block",
   "toc_window_display": false
  }
 },
 "nbformat": 4,
 "nbformat_minor": 2
}
