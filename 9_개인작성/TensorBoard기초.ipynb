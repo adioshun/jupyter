{
 "cells": [
  {
   "cell_type": "markdown",
   "metadata": {
    "deletable": true,
    "editable": true
   },
   "source": [
    "![](http://i.imgur.com/KLBDuuQ.png)"
   ]
  },
  {
   "cell_type": "code",
   "execution_count": 5,
   "metadata": {
    "collapsed": false,
    "deletable": true,
    "editable": true
   },
   "outputs": [
    {
     "name": "stdout",
     "output_type": "stream",
     "text": [
      "Extracting /home/adioshun/datasets/MNIST_data/train-images-idx3-ubyte.gz\n",
      "Extracting /home/adioshun/datasets/MNIST_data/train-labels-idx1-ubyte.gz\n",
      "Extracting /home/adioshun/datasets/MNIST_data/t10k-images-idx3-ubyte.gz\n",
      "Extracting /home/adioshun/datasets/MNIST_data/t10k-labels-idx1-ubyte.gz\n"
     ]
    }
   ],
   "source": [
    "import tensorflow as tf\n",
    "from tensorflow.examples.tutorials.mnist import input_data\n",
    "mnist = input_data.read_data_sets(\"/home/adioshun/datasets/MNIST_data/\", one_hot=True)"
   ]
  },
  {
   "cell_type": "markdown",
   "metadata": {
    "deletable": true,
    "editable": true
   },
   "source": [
    "# tf.name_scope()\n",
    "- name_scope 함수는 노드의 이름을 지정하고 노드의 큰 틀을 제공해줍니다.\n",
    "- 그 틀 안에서 실행되는 연산들은 텐서보드에서 노드를 클릭하면 연산의 흐름을 볼 수 있습니다.\n",
    "- 블록 단위로 나누어서 표현 하고자 할때\n",
    "\n",
    "![](https://1.bp.blogspot.com/-INCrGDDl-Ow/V7W1dzBGjGI/AAAAAAAAIGA/wKj5QuDCm1oa_XKL0kgbbXS72cSksO3cgCK4B/s640/ScreenShot_20160812235353.png)\n",
    "name_scope가 accuracy , cost , layer1,2,3로 총 5번 나옵니다"
   ]
  },
  {
   "cell_type": "code",
   "execution_count": 6,
   "metadata": {
    "collapsed": true,
    "deletable": true,
    "editable": true
   },
   "outputs": [],
   "source": [
    "with tf.name_scope(\"input\") as scope:\n",
    "    x = tf.placeholder(tf.float32, [None, 784])\n",
    "    \n",
    "with tf.name_scope(\"weight\") as scope:\n",
    "    W = tf.Variable(tf.zeros([784, 10]))\n",
    "    \n",
    "with tf.name_scope(\"bias\") as scope:\n",
    "    b = tf.Variable(tf.zeros([10]))   \n",
    "\n",
    "with tf.name_scope(\"layer1\") as scope:\n",
    "    y = tf.nn.softmax(tf.matmul(x, W) + b)"
   ]
  },
  {
   "cell_type": "code",
   "execution_count": 1,
   "metadata": {
    "collapsed": true,
    "deletable": true,
    "editable": true
   },
   "outputs": [],
   "source": [
    "# 참고용. 함수내 name_scope선언시\n",
    "def model(X, w_h, w_h2, w_o, p_keep_input, p_keep_hidden):\n",
    "    # Add layer name scopes for better graph visualization\n",
    "    with tf.name_scope(\"layer1\"):\n",
    "        X = tf.nn.dropout(X, p_keep_input)\n",
    "        h = tf.nn.relu(tf.matmul(X, w_h))\n",
    "    with tf.name_scope(\"layer2\"):\n",
    "        h = tf.nn.dropout(h, p_keep_hidden)\n",
    "        h2 = tf.nn.relu(tf.matmul(h, w_h2))\n",
    "    with tf.name_scope(\"layer3\"):\n",
    "        h2 = tf.nn.dropout(h2, p_keep_hidden)\n",
    "        return tf.matmul(h2, w_o)"
   ]
  },
  {
   "cell_type": "markdown",
   "metadata": {
    "deletable": true,
    "editable": true
   },
   "source": [
    "# tf.histogram_summary()\n",
    "![](https://2.bp.blogspot.com/-18Ljre-zZmk/V7W6BVjt1AI/AAAAAAAAIGM/g4FkqSAM7iYZh26pT0xIQUOUnjnHSwW2gCK4B/s640/ScreenShot_20160812235353.png)\n",
    "- 히스토그램으로 변수를 요약\n",
    "\n",
    "> summary 함수는 대부분이 `변수`의 변화 양상을 그래프로 보여주는 함수일 것입니다\n",
    "\n",
    "> 그래디언트 결과물이나 가중치 변수에 [histogram_summary](https://tensorflowkorea.gitbooks.io/tensorflow-kr/g3doc/api_docs/python/train.html#histogram_summary) 작업(op)을 추가해서 데이터를 모을 수 있음"
   ]
  },
  {
   "cell_type": "code",
   "execution_count": 7,
   "metadata": {
    "collapsed": true,
    "deletable": true,
    "editable": true
   },
   "outputs": [],
   "source": [
    "w_hist = tf.summary.histogram(\"weight\", W) \n",
    "b_hist = tf.summary.histogram(\"bias\", b) \n",
    "y_hist = tf.summary.histogram(\"y\", y) "
   ]
  },
  {
   "cell_type": "markdown",
   "metadata": {
    "deletable": true,
    "editable": true
   },
   "source": [
    "# tf.scalar_summary()\n",
    "![](https://2.bp.blogspot.com/-kT8RsG5nUjE/V7W72y6nrEI/AAAAAAAAIGY/YPuE6LERrbQUxaGDOEHZVP2mGeodJMSngCK4B/s640/ScreenShot_20160812235353.png)\n",
    "- histogram_summary과 마찬가지로 요약해주는 함수입니다.\n",
    "- 하지만 이 함수는 scalar로 변수의 변화를 요약\n",
    "\n",
    "> 학습률과 손실을 각각 만들어내는 노드에 [scalar_summary](https://tensorflowkorea.gitbooks.io/tensorflow-kr/g3doc/api_docs/python/train.html#summary-operations) 작업(op)을 추가해서 데이터를 모을 수 있음"
   ]
  },
  {
   "cell_type": "code",
   "execution_count": 8,
   "metadata": {
    "collapsed": true,
    "deletable": true,
    "editable": true
   },
   "outputs": [],
   "source": [
    "with tf.name_scope(\"y_\") as scope:                              \n",
    "    y_ = tf.placeholder(tf.float32, [None, 10])\n",
    "\n",
    "with tf.name_scope(\"cost\") as scope:\n",
    "    cost = tf.reduce_mean(-tf.reduce_sum(y_ * tf.log(y), reduction_indices=[1]))\n",
    "    cost_sum = tf.summary.scalar(\"cost\",cost)\n",
    "\n",
    "with tf.name_scope(\"train\") as scope:    \n",
    "    train_step = tf.train.GradientDescentOptimizer(0.5).minimize(cross_entropy)"
   ]
  },
  {
   "cell_type": "markdown",
   "metadata": {
    "deletable": true,
    "editable": true
   },
   "source": [
    "# tf.merge_all_summaries()\n",
    "- summary 통합. 두 개의 코드 모두 동작."
   ]
  },
  {
   "cell_type": "markdown",
   "metadata": {
    "deletable": true,
    "editable": true
   },
   "source": [
    "# tf.train.SummaryWriter\n",
    "events file을 log 디렉토리에 생성하고 events와 summaries를 추가하는 함수입니다."
   ]
  },
  {
   "cell_type": "code",
   "execution_count": 9,
   "metadata": {
    "collapsed": false,
    "deletable": true,
    "editable": true
   },
   "outputs": [],
   "source": [
    "with tf.Session() as sess:\n",
    "    merged = tf.summary.merge_all()\n",
    "    writer =tf.summary.FileWriter(\"/home/adioshun/board/mnist\", sess.graph)  \n"
   ]
  },
  {
   "cell_type": "markdown",
   "metadata": {
    "deletable": true,
    "editable": true
   },
   "source": [
    "# add_summary\n",
    "tf.train.SummaryWriter 클래스의 한 함수이며, 코드에서는 학습할 때마다 요약을 추가해서 그래프를 만드는 것입니다."
   ]
  },
  {
   "cell_type": "code",
   "execution_count": 10,
   "metadata": {
    "collapsed": true,
    "deletable": true,
    "editable": true
   },
   "outputs": [],
   "source": [
    "init = tf.global_variables_initializer()\n",
    "sess.run(init)\n",
    "\n",
    "for step in range(1000):\n",
    "    batch_xs, batch_ys = mnist.train.next_batch(100)\n",
    "    sess.run(train_step, feed_dict={x: batch_xs, y_: batch_ys})\n",
    "    #summary, _ = sess.run([merged, train_step], feed_dict={x: batch_xs, y_: batch_ys})\n",
    "    #writer.add_summary(summary,step)\n",
    "    \n",
    "    if step % 10 == 0:\n",
    "        summary = sess.run(merged, feed_dict={x: batch_xs, y_: batch_ys})\n",
    "        writer.add_summary(summary,step) # x좌표값을 위해 Step같이 표기\n",
    "\n"
   ]
  },
  {
   "cell_type": "code",
   "execution_count": null,
   "metadata": {
    "collapsed": true,
    "deletable": true,
    "editable": true
   },
   "outputs": [],
   "source": [
    "correct_prediction = tf.equal(tf.argmax(y,1), tf.argmax(y_,1))\n",
    "accuracy = tf.reduce_mean(tf.cast(correct_prediction, tf.float32))\n",
    "              \n",
    "print(sess.run(accuracy, feed_dict={x: mnist.test.images, y_: mnist.test.labels}))"
   ]
  },
  {
   "cell_type": "markdown",
   "metadata": {
    "deletable": true,
    "editable": true
   },
   "source": [
    "# 실행\n",
    "```\n",
    "tensorboard --logdir=/tmp/sample # 절대경로로 표기, 실행은 되지만 웹브라우져에서 에러b\n",
    "# tensorboard --logdir=/tmp/sample --port=8008\n",
    "```"
   ]
  },
  {
   "cell_type": "markdown",
   "metadata": {
    "deletable": true,
    "editable": true
   },
   "source": [
    "# 참고 자료 \n",
    "- [TensorBoard: 학습 시각화](https://tensorflowkorea.gitbooks.io/tensorflow-kr/g3doc/how_tos/summaries_and_tensorboard/)\n",
    "- [TensorBoard: 그래프 시각화](https://tensorflowkorea.gitbooks.io/tensorflow-kr/g3doc/how_tos/graph_viz/)\n",
    "- [Youtube: 모두를 위한 딥러닝](https://youtu.be/eDKxY5Z5dVQ)\n",
    "![](http://i.imgur.com/kkP88Ax.png)\n",
    "- [오류드에 대한 해결법](http://blog.naver.com/skkong89/220709704968)\n",
    "- 텐서보드 읽는법 [Eye of Needle](http://eyeofneedle.tistory.com/18)"
   ]
  },
  {
   "cell_type": "code",
   "execution_count": null,
   "metadata": {
    "collapsed": true
   },
   "outputs": [],
   "source": []
  }
 ],
 "metadata": {
  "kernelspec": {
   "display_name": "Python 2",
   "language": "python",
   "name": "python2"
  },
  "language_info": {
   "codemirror_mode": {
    "name": "ipython",
    "version": 2
   },
   "file_extension": ".py",
   "mimetype": "text/x-python",
   "name": "python",
   "nbconvert_exporter": "python",
   "pygments_lexer": "ipython2",
   "version": "2.7.12"
  },
  "toc": {
   "colors": {
    "hover_highlight": "#DAA520",
    "running_highlight": "#FF0000",
    "selected_highlight": "#FFD700"
   },
   "moveMenuLeft": true,
   "nav_menu": {
    "height": "156px",
    "width": "252px"
   },
   "navigate_menu": true,
   "number_sections": true,
   "sideBar": true,
   "threshold": 4,
   "toc_cell": false,
   "toc_section_display": "block",
   "toc_window_display": true
  }
 },
 "nbformat": 4,
 "nbformat_minor": 2
}
