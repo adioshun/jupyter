{
 "cells": [
  {
   "cell_type": "markdown",
   "metadata": {},
   "source": [
    "# 텐서플로우 관련 함수"
   ]
  },
  {
   "cell_type": "markdown",
   "metadata": {},
   "source": [
    "## 1. 기본 함수\n",
    "# 1. constant\n",
    "```\n",
    "a = tf.constant(5.0) \n",
    "```\n",
    "# 2. matrix \n",
    "```\n",
    "matrix1 = tf.constant([[3., 3.]]) # Create a Constant op that produces a 1x2 matrix\n",
    "\n",
    "matrix2 = tf.constant([[2.],[2.]]) # Create another Constant that produces a 2x1 matrix.\n",
    "```\n",
    "# 3. else \n",
    "```\n",
    "tf.zeros(shape, dtype = , name = )\n",
    "tf.ones(shape, dtype = , name = ) \n",
    "tf.random_normal(shape, mean = , stddev = , dtype = , seed = , name = ) \n",
    "tf.truncated_normal(shape, mean = , stddev = , dtype = , seed = , name = ) \n",
    "tf.random_uniform(shape, minval = , maxval = , dtype = , seed = , name = ) \n",
    "tf.random_shuffle(value, seed = , name = ) \n",
    "```\n",
    "[출처] tensorflow variables and functions|작성자 영재\n",
    "\n"
   ]
  },
  {
   "cell_type": "markdown",
   "metadata": {},
   "source": [
    "## 2. 수학함수\n",
    "|함수|설명|\n",
    "|-|-|\n",
    "|tf.add|덧셈|\n",
    "|tf.square|제곱|\n",
    "\n",
    "참고 : 텐서플로우첫걸음, 42p"
   ]
  },
  {
   "cell_type": "markdown",
   "metadata": {},
   "source": [
    "## 3. 행렬연삼함수\n",
    "|함수|설명|\n",
    "|-|-|\n",
    "|tf.diag|대각행렬 리턴|\n",
    "|tf.matmul|핼렬곱 리턴|\n",
    "\n",
    "참고 : 텐서플로우첫걸음, 43p"
   ]
  },
  {
   "cell_type": "markdown",
   "metadata": {},
   "source": [
    "## 4. 주요 변환 함수\n",
    "||함수|설명|\n",
    "|-|-|-|\n",
    "|1|tf.slice|텐서의 일부분 삭제|\n",
    "|2|tf.expand_dims|텐서의 차원을 추가|\n",
    "||tf.shape |텐서의 구조를 알아냅니다.\n",
    "||tf.size |텐서의 크기를 알아냅니다.\n",
    "||tf.rank |텐서의 랭크를 알아냅니다.\n",
    "||tf.reshape |텐서의 엘리먼트(element)는 그대로 유지하면서 텐서의 구조를 바꿉니다.\n",
    "||tf.squeeze |텐서에서 크기가 1인 차원을 삭제합니다.\n",
    "||tf.expand_dims |텐서에 차원을 추가합니다.\n",
    "||tf.slice |텐서의 일부분을 삭제합니다.\n",
    "||tf.split |텐서를 한 차원을 기준으로 여러개의 텐서로 나눕니다.\n",
    "||tf.tile |한 텐서를 여러번 중복으로 늘려 새 텐서를 만듭니다.\n",
    "||tf.concat |한 차원을 기준으로 텐서를 이어 붙입니다.\n",
    "||tf.reverse |텐서의 지정된 차원을 역전시킵니다.\n",
    "||tf.transpose |텐서를 전치(transpose)시킵니다.\n",
    "||tf.gather |주어진 인덱스에 따라 텐서의 엘리먼트를 모읍니다.\n",
    "\n",
    "참고 : 텐서플로우첫걸음, 67p"
   ]
  },
  {
   "cell_type": "markdown",
   "metadata": {},
   "source": [
    "### 4.1 tf.slice() 텐서의 일부분 삭제\n",
    "tf.slice(input_, begin, size, name=None)\n",
    "\n",
    "Args:\n",
    "* input_: 입력, A Tensor.\n",
    "* begin: 시작 위치, An int32 or int64 Tensor.\n",
    "* size: 크기, An int32 or int64 Tensor.\n",
    "* name: 옵션, A name for the operation (optional).\n",
    "\n",
    "Returns:\n",
    "* A Tensor the same type as input."
   ]
  },
  {
   "cell_type": "code",
   "execution_count": 8,
   "metadata": {},
   "outputs": [
    {
     "name": "stdout",
     "output_type": "stream",
     "text": [
      "[[1 2]\n",
      " [3 4]\n",
      " [5 6]]\n"
     ]
    }
   ],
   "source": [
    "import numpy as np\n",
    "import pandas as pd\n",
    "import tensorflow as tf\n",
    "\n",
    "ph = tf.placeholder(shape=[None,3], dtype=tf.int32)\n",
    "\n",
    "x = tf.slice(ph, [0, 0], [3, 2])\n",
    "\n",
    "input_ = np.array([[1,2,3],\n",
    "                   [3,4,5],\n",
    "                   [5,6,7]])\n",
    "\n",
    "with tf.Session() as sess:\n",
    "        sess.run(tf.global_variables_initializer())\n",
    "        print sess.run(x, feed_dict={ph: input_})"
   ]
  },
  {
   "cell_type": "markdown",
   "metadata": {},
   "source": [
    "### 4.2 tf.expand_dims() 텐서의 차원을 확장\n",
    "tf.expand_dims(input, axis=None, name=None, dim=None)\n",
    "\n",
    "Args:\n",
    "* input: A Tensor.\n",
    "* axis: 0-D (scalar). 차원을 추가할 곳, Specifies the dimension index at which to expand the shape of input.\n",
    "* name: The name of the output Tensor.\n",
    "* dim: 0-D (scalar). Equivalent to axis, to be deprecated.\n",
    "\n",
    "Returns:\n",
    "*  A Tensor with the same data as input, but its shape has an additional dimension of size 1 added.\n",
    "\n",
    "> cf. squeeze(), which removes dimensions of size 1.\n",
    "> ValueError: if both dim and axis are specified.\n",
    "\n",
    "> 참고 : https://www.tensorflow.org/api_docs/python/array_ops/shapes_and_shaping#expand_dims"
   ]
  },
  {
   "cell_type": "code",
   "execution_count": 7,
   "metadata": {},
   "outputs": [
    {
     "name": "stdout",
     "output_type": "stream",
     "text": [
      "[[2]\n",
      " [2]]\n"
     ]
    }
   ],
   "source": [
    "import numpy as np\n",
    "import pandas as pd\n",
    "import tensorflow as tf\n",
    "\n",
    "matrix2 = tf.constant([[2],[2]])\n",
    "#matrix2.get_shape()\n",
    "\n",
    "with tf.Session() as sess:\n",
    "        sess.run(tf.global_variables_initializer())\n",
    "        print sess.run(matrix2)"
   ]
  },
  {
   "cell_type": "code",
   "execution_count": null,
   "metadata": {},
   "outputs": [],
   "source": []
  }
 ],
 "metadata": {
  "kernelspec": {
   "display_name": "Python 2",
   "language": "python",
   "name": "python2"
  },
  "language_info": {
   "codemirror_mode": {
    "name": "ipython",
    "version": 2
   },
   "file_extension": ".py",
   "mimetype": "text/x-python",
   "name": "python",
   "nbconvert_exporter": "python",
   "pygments_lexer": "ipython2",
   "version": "2.7.13"
  }
 },
 "nbformat": 4,
 "nbformat_minor": 2
}
