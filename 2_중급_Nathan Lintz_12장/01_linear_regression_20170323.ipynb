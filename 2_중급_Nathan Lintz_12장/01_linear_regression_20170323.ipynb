{
 "cells": [
  {
   "cell_type": "code",
   "execution_count": 1,
   "metadata": {
    "collapsed": false,
    "deletable": true,
    "editable": true
   },
   "outputs": [],
   "source": [
    "import tensorflow as tf\n",
    "import numpy as np"
   ]
  },
  {
   "cell_type": "code",
   "execution_count": 2,
   "metadata": {
    "collapsed": true,
    "deletable": true,
    "editable": true
   },
   "outputs": [],
   "source": [
    "trX = np.linspace(-1, 1, 101)\n",
    "trY = 2 * trX + np.random.randn(*trX.shape) * 0.33 # create a y value which is approximately linear but with some random noise"
   ]
  },
  {
   "cell_type": "markdown",
   "metadata": {
    "deletable": true,
    "editable": true
   },
   "source": [
    "- linspace() : 시작점과 끝점을 균일 간격으로 나눈 점들을 생성\n",
    "- c = np.linspace(0, 1, 6)   # start, end, num-points "
   ]
  },
  {
   "cell_type": "code",
   "execution_count": 3,
   "metadata": {
    "collapsed": true,
    "deletable": true,
    "editable": true
   },
   "outputs": [],
   "source": [
    "X = tf.placeholder(\"float\") # create symbolic variables\n",
    "Y = tf.placeholder(\"float\")\n",
    "\n",
    "def model(X, w):\n",
    "    return tf.multiply(X, w) # lr is just X*w so this model line is pretty simple\n",
    "\n",
    "w = tf.Variable(0.0, name=\"weights\") # create a shared variable (like theano.shared) for the weight matrix\n",
    "y_model = model(X, w)\n",
    "\n",
    "cost = tf.square(Y - y_model) # use square error for cost function\n",
    "\n",
    "train_op = tf.train.GradientDescentOptimizer(0.01).minimize(cost) # construct an optimizer to minimize cost and fit line to my data"
   ]
  },
  {
   "cell_type": "code",
   "execution_count": 5,
   "metadata": {
    "collapsed": false,
    "deletable": true,
    "editable": true
   },
   "outputs": [
    {
     "name": "stdout",
     "output_type": "stream",
     "text": [
      "2.00863\n"
     ]
    }
   ],
   "source": [
    "# Launch the graph in a session\n",
    "with tf.Session() as sess:\n",
    "    # you need to initialize variables (in this case just variable W)\n",
    "    tf.global_variables_initializer().run()\n",
    "\n",
    "    for i in range(100):\n",
    "        for (x, y) in zip(trX, trY):\n",
    "            sess.run(train_op, feed_dict={X: x, Y: y})\n",
    "\n",
    "    print(sess.run(w))  # It should be something around 2"
   ]
  },
  {
   "cell_type": "markdown",
   "metadata": {
    "collapsed": true,
    "deletable": true,
    "editable": true
   },
   "source": [
    "# Tensorboard용 (동작 안함)\n",
    "import tensorflow as tf\n",
    "import numpy as np\n",
    "\n",
    "trX = np.linspace(-1, 1, 101)\n",
    "trY = 2 * trX + np.random.randn(*trX.shape) * 0.33 \n",
    "\n",
    "with tf.name_scope(\"X\") as scope:\n",
    "    X = tf.placeholder(\"float64\")\n",
    "    x_hist = tf.summary.histogram(\"X\", X) \n",
    "\n",
    "with tf.name_scope(\"Y\") as scope:\n",
    "    Y = tf.placeholder(\"float64\")\n",
    "    y_hist = tf.summary.histogram(\"Y\", Y) \n",
    "\n",
    "with tf.name_scope(\"model\") as scope:\n",
    "    def model(X,W):\n",
    "        return tf.multiply(X,W)\n",
    "\n",
    "with tf.name_scope(\"y_model\") as scope:\n",
    "    W = tf.Variable(0.0, name=\"weight\")\n",
    "    w_hist = tf.summary.histogram(\"weight\", W) \n",
    "    y_model = tf.multiply(X,W)\n",
    "\n",
    "with tf.name_scope(\"cost\") as scope:\n",
    "    cost = tf.square(Y-y_model)\n",
    "    cost_sum = tf.summary.scalar(\"cost\",cost)\n",
    "\n",
    "    \n",
    "with tf.name_scope(\"train_op\") as scope:\n",
    "    train_op = tf.train.GradientDescentOptimizer(0.01).minimize(cost)\n",
    "\n",
    "\n",
    "sess = tf.Session()\n",
    "\n",
    "init = tf.global_variables_initializer()\n",
    "sess.run(init)\n",
    "\n",
    "merged = tf.summary.merge_all()\n",
    "writer =tf.summary.FileWriter(\"/home/adioshun/board/test\", sess.graph)  \n",
    "    \n",
    "for step in range(10):\n",
    "    for (x,y) in zip(trX, trY):\n",
    "       #sess.run(train_op, feed_dict={X: x, Y: y})\n",
    "       #summary = sess.run(merged, feed_dict={X: x, Y: y})\n",
    "       summary, _ = sess.run([merged, train_op], feed_dict={X: x, Y: y})\n",
    "       writer.add_summary(summary, step)\n",
    "     \n",
    "    print(sess.run(W))\n"
   ]
  }
 ],
 "metadata": {
  "kernelspec": {
   "display_name": "Python 2",
   "language": "python",
   "name": "python2"
  },
  "language_info": {
   "codemirror_mode": {
    "name": "ipython",
    "version": 2
   },
   "file_extension": ".py",
   "mimetype": "text/x-python",
   "name": "python",
   "nbconvert_exporter": "python",
   "pygments_lexer": "ipython2",
   "version": "2.7.12"
  },
  "toc": {
   "colors": {
    "hover_highlight": "#DAA520",
    "running_highlight": "#FF0000",
    "selected_highlight": "#FFD700"
   },
   "moveMenuLeft": true,
   "nav_menu": {
    "height": "12px",
    "width": "252px"
   },
   "navigate_menu": true,
   "number_sections": true,
   "sideBar": true,
   "threshold": 4,
   "toc_cell": false,
   "toc_section_display": "block",
   "toc_window_display": false
  }
 },
 "nbformat": 4,
 "nbformat_minor": 0
}
