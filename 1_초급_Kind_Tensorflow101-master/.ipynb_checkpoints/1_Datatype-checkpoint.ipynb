{
 "cells": [
  {
   "cell_type": "code",
   "execution_count": 1,
   "metadata": {
    "collapsed": true
   },
   "outputs": [],
   "source": [
    "# 텐서플로우를 불러옵니다\n",
    "import tensorflow as tf"
   ]
  },
  {
   "cell_type": "code",
   "execution_count": 2,
   "metadata": {
    "collapsed": false
   },
   "outputs": [
    {
     "name": "stdout",
     "output_type": "stream",
     "text": [
      "Tensor(\"const_1:0\", shape=(), dtype=float32) Tensor(\"const_2:0\", shape=(), dtype=float32) Tensor(\"add:0\", shape=(), dtype=float32)\n"
     ]
    }
   ],
   "source": [
    "# 텐서플로우에서 상수(constant)는 다음과 같이 선언됩니다\n",
    "# API를 찾아보면 형태는 이렇게 정의 되어 있습니다\n",
    "# tf.constant(value, dtype=None, shape=None, name='Const', verify_shape=False)\n",
    "# print 해도 아직 Data Flow Graph 에 값이 올라가지 않고 선언만 된 상태이기 때문에 값이 출력되지 않습니다\n",
    "\n",
    "c1=tf.constant(1,dtype=tf.float32,name='const_1')\n",
    "c2=tf.constant(2,dtype=tf.float32,name='const_2')\n",
    "c3=c1+c2\n",
    "print(c1,c2,c3)"
   ]
  },
  {
   "cell_type": "code",
   "execution_count": 3,
   "metadata": {
    "collapsed": false
   },
   "outputs": [
    {
     "name": "stdout",
     "output_type": "stream",
     "text": [
      "3.0\n"
     ]
    }
   ],
   "source": [
    "# 텐서플로우 세션을 만들면 앞서 선언한 constant들의 값이 Flow Graph에 올라갑니다\n",
    "\n",
    "with tf.Session() as sess:\n",
    "    print(sess.run(c3))"
   ]
  },
  {
   "cell_type": "code",
   "execution_count": 4,
   "metadata": {
    "collapsed": false
   },
   "outputs": [
    {
     "name": "stdout",
     "output_type": "stream",
     "text": [
      "Tensor(\"var_1/read:0\", shape=(), dtype=float32) Tensor(\"var_2/read:0\", shape=(), dtype=float32) Tensor(\"add_1:0\", shape=(), dtype=float32)\n"
     ]
    }
   ],
   "source": [
    "# 텐서플로우에서 변수(Variable)은 다음과 같이 선언됩니다\n",
    "# API를 찾아보면 형태는 이렇게 정의 되어 있습니다\n",
    "# tf.Variable.__init__(initial_value=None, trainable=True, collections=None, validate_shape=True, caching_device=None, name=None, variable_def=None, dtype=None, expected_shape=None, import_scope=None) \n",
    "# tf.Variable.assign(value, use_locking=False)\n",
    "\n",
    "v1=tf.Variable(0,dtype=tf.float32,name='var_1')\n",
    "v2=tf.Variable(0,dtype=tf.float32,name='var_2')\n",
    "v1.assign(1)\n",
    "v2.assign(2)\n",
    "v3=v1+v2\n",
    "print(v1,v2,v3)"
   ]
  },
  {
   "cell_type": "code",
   "execution_count": 5,
   "metadata": {
    "collapsed": false
   },
   "outputs": [],
   "source": [
    "# 텐서플로우 세션을 만들면 변수의 경우는 어떻게 될까요?\n",
    "# with tf.Session() as sess:\n",
    "#    print(sess.run(v3))"
   ]
  },
  {
   "cell_type": "code",
   "execution_count": 6,
   "metadata": {
    "collapsed": false
   },
   "outputs": [
    {
     "name": "stdout",
     "output_type": "stream",
     "text": [
      "0.0\n"
     ]
    }
   ],
   "source": [
    "# 위와 같은 오류가 나온 이유는 Variable 값들이 아직 Flow Graph에 올라가지 않았기 때문입니다\n",
    "# Variable들을 initialize하려면 다음과 같은 함수를 세션에서 돌려야합니다\n",
    "# tf.global_variables_initializer()\n",
    "\n",
    "with tf.Session() as sess:\n",
    "    sess.run(tf.global_variables_initializer())\n",
    "    print(sess.run(v3))"
   ]
  },
  {
   "cell_type": "code",
   "execution_count": 7,
   "metadata": {
    "collapsed": false
   },
   "outputs": [
    {
     "name": "stdout",
     "output_type": "stream",
     "text": [
      "3.0\n"
     ]
    }
   ],
   "source": [
    "# 위에서 분명 assign을 했는데 왜 0이 나오는걸까요?\n",
    "# 그 이유는 새롭게 assign한 부분이 initializer로는 적용이 안됐기 때문입니다\n",
    "# 그렇기 때문에 세션에서 assign을 해줘야 새로운 값들이 들어갑니다\n",
    "\n",
    "with tf.Session() as sess:\n",
    "    sess.run(tf.global_variables_initializer())\n",
    "    sess.run(v1.assign(1))\n",
    "    sess.run(v2.assign(2))\n",
    "    print(sess.run(v3))"
   ]
  },
  {
   "cell_type": "code",
   "execution_count": 13,
   "metadata": {
    "collapsed": false
   },
   "outputs": [
    {
     "name": "stdout",
     "output_type": "stream",
     "text": [
      "Tensor(\"place_1_2:0\", shape=(2, 2), dtype=float32) Tensor(\"place_2_1:0\", shape=(2, 2), dtype=float32) Tensor(\"add_3:0\", shape=(2, 2), dtype=float32)\n"
     ]
    }
   ],
   "source": [
    "# 텐서플로우에는 초기값이 필요한 Variable과 달리 초기값이 없고 Session이 돌아갈때 값을 feed 해주는 placeholder가 있습니다\n",
    "# API를 찾아보면 형태는 이렇게 정의 되어 있습니다\n",
    "# tf.placeholder(dtype, shape=None, name=None)\n",
    "\n",
    "p1=tf.placeholder(shape=[2,2],dtype=tf.float32,name='place_1')\n",
    "p2=tf.placeholder(shape=[2,2],dtype=tf.float32,name='place_2')\n",
    "p3=p1+p2\n",
    "print(p1,p2,p3)"
   ]
  },
  {
   "cell_type": "code",
   "execution_count": 14,
   "metadata": {
    "collapsed": false
   },
   "outputs": [],
   "source": [
    "# 값을 feed하지 않고 돌리면 어떻게 될까요?\n",
    "# with tf.Session() as sess:\n",
    "#   sess.run(p3)"
   ]
  },
  {
   "cell_type": "code",
   "execution_count": 18,
   "metadata": {
    "collapsed": false
   },
   "outputs": [
    {
     "name": "stdout",
     "output_type": "stream",
     "text": [
      "[[  6.   8.]\n",
      " [ 10.  12.]]\n"
     ]
    }
   ],
   "source": [
    "# placeholder는 feed_dict={}를 통해서 값을 전달합니다\n",
    "# feed_dict는 세션 밖에서도 선언될 수 있지만 인자가 필요한 함수를 세션에서 돌릴때 반드시 feed 해야합니다\n",
    "# feed_dict는 파이썬 딕셔너리의 형태를 가지고 있습니다\n",
    "\n",
    "feed_dict={p1:[[1,2],[3,4]], p2:[[5,6],[7,8]]}\n",
    "with tf.Session() as sess:\n",
    "   print(sess.run(p3,feed_dict=feed_dict))"
   ]
  }
 ],
 "metadata": {
  "kernelspec": {
   "display_name": "Python 2",
   "language": "python",
   "name": "python2"
  },
  "language_info": {
   "codemirror_mode": {
    "name": "ipython",
    "version": 2
   },
   "file_extension": ".py",
   "mimetype": "text/x-python",
   "name": "python",
   "nbconvert_exporter": "python",
   "pygments_lexer": "ipython2",
   "version": "2.7.13"
  }
 },
 "nbformat": 4,
 "nbformat_minor": 1
}
