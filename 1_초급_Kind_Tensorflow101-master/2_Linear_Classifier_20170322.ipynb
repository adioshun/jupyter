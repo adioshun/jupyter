{
 "cells": [
  {
   "cell_type": "markdown",
   "metadata": {
    "deletable": true,
    "editable": true
   },
   "source": [
    "# 데이터 정의 \n",
    "- 입력/출력 : placeholder\n",
    "- weight/bias : tf.Variable "
   ]
  },
  {
   "cell_type": "code",
   "execution_count": 1,
   "metadata": {
    "collapsed": true,
    "deletable": true,
    "editable": true
   },
   "outputs": [],
   "source": [
    "# 이번엔 텐서플로우로 간단한 Linear function을 짜보겠습니다\n",
    "# 텐서플로우와 넘파이를 불러옵니다\n",
    "\n",
    "import tensorflow as tf\n",
    "import numpy as np"
   ]
  },
  {
   "cell_type": "code",
   "execution_count": 2,
   "metadata": {
    "collapsed": true,
    "deletable": true,
    "editable": true
   },
   "outputs": [],
   "source": [
    "# Linear function을 학습시키려면 다음과 같은것들이 필요합니다\n",
    "# Input, Output, Linear function, Loss function, Gradient Descent\n",
    "# 먼저 data를 임의로 설정하였습니다\n",
    "# y=w*x+b -> (4x3)*(3x1)+b=(4,1) \n",
    "\n",
    "input_data=np.array([[0,0,1],[0,1,1],[1,0,1],[1,1,1]],dtype=np.float32)\n",
    "output_data=np.array([[0,0,1,1]],dtype=np.float32).T"
   ]
  },
  {
   "cell_type": "code",
   "execution_count": 3,
   "metadata": {
    "collapsed": true,
    "deletable": true,
    "editable": true
   },
   "outputs": [],
   "source": [
    "# 이번 예제에서는 데이터가 작아 input을 tf.constant로 넘겨도 되지만 \n",
    "# 실제 데이터를 사용할때는 이보다 훨씬 크고 한번에 다 돌리는것보다 \n",
    "# 주로 데이터를 batch로 분할해 사용하기 때문에 tf.placeholder를 사용합니다\n",
    "# placeholder를 사용하면 하나의 변수를 사용하여 다른 값을 전달할 수 있습니다\n",
    "\n",
    "x =tf.placeholder(dtype=np.float32,shape=[4,3])\n",
    "y_=tf.placeholder(dtype=np.float32,shape=[4,1])"
   ]
  },
  {
   "cell_type": "code",
   "execution_count": 4,
   "metadata": {
    "collapsed": true,
    "deletable": true,
    "editable": true
   },
   "outputs": [],
   "source": [
    "# weight와 bias는 학습을 통해 update되는 변수이기 때문에 tf.Variable을 쓰고\n",
    "# 0~1의 값을 리턴하는 numpy의 함수를 사용해 initialize 합니다\n",
    "# 사실 initialize하는 방법에는 여러가지가 있습니다\n",
    "\n",
    "weight=tf.Variable(np.random.random_sample([3,1]),dtype=tf.float32,name='weight')\n",
    "bias=tf.Variable(np.random.random_sample([1]),dtype=tf.float32,name='bias')"
   ]
  },
  {
   "cell_type": "markdown",
   "metadata": {
    "deletable": true,
    "editable": true
   },
   "source": [
    "# y 모델 정의 "
   ]
  },
  {
   "cell_type": "code",
   "execution_count": 5,
   "metadata": {
    "collapsed": true,
    "deletable": true,
    "editable": true
   },
   "outputs": [],
   "source": [
    "# Linear function: y=wx+b\n",
    "# 행렬연산이기 때문에 tf.matmul(a, b, ..., name=None)을 사용합니다\n",
    "\n",
    "y=tf.matmul(x,weight)+bias"
   ]
  },
  {
   "cell_type": "markdown",
   "metadata": {
    "deletable": true,
    "editable": true
   },
   "source": [
    "# Loss 정의"
   ]
  },
  {
   "cell_type": "code",
   "execution_count": 6,
   "metadata": {
    "collapsed": true,
    "deletable": true,
    "editable": true
   },
   "outputs": [],
   "source": [
    "# Loss function을 정의합니다\n",
    "# 연산결과와 실제 값의 차이의 제곱을 평균해서 구합니다(l2_loss)\n",
    "# Loss function을 정의하는것 역시 다양한 방법이 있습니다\n",
    "\n",
    "Loss=tf.reduce_mean(tf.square(y-y_))"
   ]
  },
  {
   "cell_type": "markdown",
   "metadata": {
    "deletable": true,
    "editable": true
   },
   "source": [
    "reduce_mean() : 최소값을 계산"
   ]
  },
  {
   "cell_type": "code",
   "execution_count": 7,
   "metadata": {
    "collapsed": true,
    "deletable": true,
    "editable": true
   },
   "outputs": [],
   "source": [
    "# 모델을 학습시킬 방법을 정의합니다\n",
    "# 여기서는 기본적인 Gradient Descent Optimizer를 사용하였고 \n",
    "# learning rate는 임의로 설정하였습니다\n",
    "# 목표는 Loss의 최소화롤 설정했습니다\n",
    "\n",
    "train=tf.train.GradientDescentOptimizer(learning_rate=1e-2).minimize(Loss)"
   ]
  },
  {
   "cell_type": "code",
   "execution_count": 11,
   "metadata": {
    "collapsed": true,
    "deletable": true,
    "editable": true
   },
   "outputs": [],
   "source": [
    "# 학습을 시작하기 전에 placeholder에 인자로 넘길 feed_dict과\n",
    "# 변수를 초기화하는 tf.global_varb=iables_initializer()를 준비합니다\n",
    "\n",
    "feed_dict={x:input_data, y_:output_data}\n",
    "init=tf.global_variables_initializer()"
   ]
  },
  {
   "cell_type": "code",
   "execution_count": 14,
   "metadata": {
    "collapsed": false,
    "deletable": true,
    "editable": true
   },
   "outputs": [
    {
     "name": "stdout",
     "output_type": "stream",
     "text": [
      "0.979364\n",
      "0.14602\n",
      "0.0563783\n",
      "0.0219668\n",
      "0.00864422\n",
      "0.00343825\n",
      "0.00138316\n",
      "0.000562993\n",
      "0.00023189\n",
      "9.66344e-05\n",
      "4.07284e-05\n",
      "1.73494e-05\n",
      "7.46365e-06\n",
      "3.23946e-06\n",
      "1.41721e-06\n",
      "6.24199e-07\n",
      "2.76616e-07\n",
      "1.23211e-07\n",
      "5.51275e-08\n",
      "2.4752e-08\n",
      "1.11554e-08\n",
      "5.04878e-09\n",
      "2.28614e-09\n",
      "1.03793e-09\n",
      "4.78913e-10\n",
      "2.18097e-10\n",
      "1.11292e-10\n",
      "4.86253e-11\n",
      "2.18561e-11\n",
      "1.44176e-11\n",
      "1.28051e-11\n",
      "1.17564e-11\n",
      "1.13001e-11\n",
      "1.12879e-11\n",
      "1.09711e-11\n",
      "1.09781e-11\n",
      "1.10499e-11\n",
      "1.1074e-11\n",
      "1.10983e-11\n",
      "1.10983e-11\n",
      "1.11227e-11\n",
      "1.11227e-11\n",
      "1.11227e-11\n",
      "1.11227e-11\n",
      "1.11227e-11\n",
      "1.11227e-11\n",
      "1.11227e-11\n",
      "1.11227e-11\n",
      "1.11227e-11\n",
      "1.11227e-11\n",
      "1.11227e-11\n",
      "1.11227e-11\n",
      "1.11227e-11\n",
      "1.11227e-11\n",
      "1.11227e-11\n",
      "1.11227e-11\n",
      "1.11227e-11\n",
      "1.11227e-11\n",
      "1.11227e-11\n",
      "1.11227e-11\n",
      "1.11227e-11\n",
      "1.11227e-11\n",
      "1.11227e-11\n",
      "1.11227e-11\n",
      "1.11227e-11\n",
      "1.11227e-11\n",
      "1.11227e-11\n",
      "1.11227e-11\n",
      "1.11227e-11\n",
      "1.11227e-11\n",
      "1.11227e-11\n",
      "1.11227e-11\n",
      "1.11227e-11\n",
      "1.11227e-11\n",
      "1.11227e-11\n",
      "1.11227e-11\n",
      "1.11227e-11\n",
      "1.11227e-11\n",
      "1.11227e-11\n",
      "1.11227e-11\n",
      "1.11227e-11\n",
      "1.11227e-11\n",
      "1.11227e-11\n",
      "1.11227e-11\n",
      "1.11227e-11\n",
      "1.11227e-11\n",
      "1.11227e-11\n",
      "1.11227e-11\n",
      "1.11227e-11\n",
      "1.11227e-11\n",
      "1.11227e-11\n",
      "1.11227e-11\n",
      "1.11227e-11\n",
      "1.11227e-11\n",
      "1.11227e-11\n",
      "1.11227e-11\n",
      "1.11227e-11\n",
      "1.11227e-11\n",
      "1.11227e-11\n",
      "1.11227e-11\n",
      "Tensor(\"Mean:0\", shape=(), dtype=float32)\n",
      "1.11227e-11\n",
      "[[  4.05311584e-06]\n",
      " [  3.27825546e-06]\n",
      " [  9.99997437e-01]\n",
      " [  9.99996722e-01]]\n"
     ]
    }
   ],
   "source": [
    "# Session을 열고 variable initialize를 한후에 \n",
    "# 원하는 횟수만큼 학습을 시킵니다\n",
    "# iteration마다 loss가 감소하는지 보기위해 값을 출력하였고\n",
    "# 학습이 끝난뒤에 최종 Loss는 얼마이고 결과값은 어떻게 나오는지 출력합니다\n",
    "# 값을 확인할때도 sess.run()을 프린트해야 나오고 그냥 프린트하면 값이 나오지 않습니다\n",
    "\n",
    "\n",
    "cost_sum = tf.summary.scalar(\"cost\",Loss)\n",
    "\n",
    "with tf.Session() as sess:\n",
    "    sess.run(init)\n",
    "    merged = tf.summary.merge_all()\n",
    "    writer =tf.summary.FileWriter(\"/home/adioshun/board\", sess.graph) \n",
    "    \n",
    "    \n",
    "    for i in range(10000):\n",
    "        # _,l=sess.run([train,Loss],feed_dict=feed_dict)\n",
    "        summary, _ ,l = sess.run([merged, train, Loss], feed_dict=feed_dict)\n",
    "        writer.add_summary(summary,i)\n",
    "    \n",
    "    \n",
    "        if i%100==0:\n",
    "            print(l)\n",
    "    print(Loss)\n",
    "    print(sess.run(Loss,feed_dict=feed_dict))\n",
    "    print(sess.run(y,feed_dict=feed_dict))"
   ]
  },
  {
   "cell_type": "code",
   "execution_count": null,
   "metadata": {
    "collapsed": true
   },
   "outputs": [],
   "source": []
  }
 ],
 "metadata": {
  "celltoolbar": "Raw Cell Format",
  "kernelspec": {
   "display_name": "Python 2",
   "language": "python",
   "name": "python2"
  },
  "language_info": {
   "codemirror_mode": {
    "name": "ipython",
    "version": 2
   },
   "file_extension": ".py",
   "mimetype": "text/x-python",
   "name": "python",
   "nbconvert_exporter": "python",
   "pygments_lexer": "ipython2",
   "version": "2.7.12"
  },
  "toc": {
   "colors": {
    "hover_highlight": "#DAA520",
    "running_highlight": "#FF0000",
    "selected_highlight": "#FFD700"
   },
   "moveMenuLeft": true,
   "nav_menu": {
    "height": "66px",
    "width": "252px"
   },
   "navigate_menu": true,
   "number_sections": true,
   "sideBar": true,
   "threshold": 4,
   "toc_cell": false,
   "toc_section_display": "block",
   "toc_window_display": false
  }
 },
 "nbformat": 4,
 "nbformat_minor": 1
}
