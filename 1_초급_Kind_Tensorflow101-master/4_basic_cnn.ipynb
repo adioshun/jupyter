{
 "cells": [
  {
   "cell_type": "code",
   "execution_count": 1,
   "metadata": {
    "collapsed": true
   },
   "outputs": [],
   "source": [
    "# 저번 튜토리얼을 통해 텐서플로우를 쓰는것이 코드를 간소화 할 수 있고 \n",
    "# 그렇기 때문에 세세한 구현보다 모델의 구조에 더 집중할 수 있다는 점을 배웠습니다\n",
    "# 이번에는 기본적인 Convolutional Neural Network를 짜보면서 \n",
    "# tf.nn.conv2d(), tf.nn.max_pool() 같은 함수들을 배워보겠습니다"
   ]
  },
  {
   "cell_type": "code",
   "execution_count": 2,
   "metadata": {
    "collapsed": false
   },
   "outputs": [
    {
     "name": "stdout",
     "output_type": "stream",
     "text": [
      "Extracting MNIST_data/train-images-idx3-ubyte.gz\n",
      "Extracting MNIST_data/train-labels-idx1-ubyte.gz\n",
      "Extracting MNIST_data/t10k-images-idx3-ubyte.gz\n",
      "Extracting MNIST_data/t10k-labels-idx1-ubyte.gz\n"
     ]
    }
   ],
   "source": [
    "# 이번 튜토리얼에서 사용할 데이터는 mnist 데이터로 0~9사이의 28x28 크기의 손글씨 데이터입니다\n",
    "# 하도 유명한 데이터이기 때문에 텐서플로우에서 따로 데이터를 받고 불러오는 함수를 제공합니다\n",
    "# one_hot=True는 만약 그 데이터가 3으로 라벨링 되어있으면 [0,0,0,1,0,0,0,0,0,0]로 바꿔줍니다\n",
    "\n",
    "from tensorflow.examples.tutorials.mnist import input_data\n",
    "mnist = input_data.read_data_sets('MNIST_data', one_hot=True)"
   ]
  },
  {
   "cell_type": "code",
   "execution_count": 3,
   "metadata": {
    "collapsed": true
   },
   "outputs": [],
   "source": [
    "# 데이터를 불러왔으니 이제 모델을 만들어보겠습니다\n",
    "# 저번에는 모델을 만들고 세션을 열어서 학습시켰으나\n",
    "# 이번에는 tf.InteractiveSession()을 사용해 세션 안에서 모델 또한 만들어보겠습니다\n",
    "# InteractiveSession은 현재 열린 세션을 default 세션으로 인식하기 때문에\n",
    "# sess.run()을 통해 결과값을 얻지 않아도 되고 Tensor.eval()로 바로 값을 구하거나\n",
    "# Operation.run()을 통해 함수를 돌릴 수 있습니다\n",
    "\n",
    "import tensorflow as tf\n",
    "sess = tf.InteractiveSession()"
   ]
  },
  {
   "cell_type": "code",
   "execution_count": 4,
   "metadata": {
    "collapsed": true
   },
   "outputs": [],
   "source": [
    "# 먼저 인풋과 라벨을 받을 tf.placeholder를 만듭니다 shape에서 None은 값을 동적으로 할당한다는\n",
    "# 뜻으로 여기서는 한번에 들어오는 batch의 크기에 따라 동적으로 모양을 정할 수 있게 해줍니다\n",
    "# tf.reshape(tensor, shape, name=None)는 텐서의 모양을 바꾸고 싶을때 사용하는 함수입니다\n",
    "# 여기서 -1은 shape에서 나머지 숫자들이 다 정해져 있으면 input의 크기에 맞춰 -1 부분에 넣는다는 뜻입니다 \n",
    "# 예를 들어 x가 [5,784]로 들어왔다면 reshape는 이를 [5,28,28,1]로 바꿔줍니다\n",
    "\n",
    "x  = tf.placeholder(tf.float32, shape=[None, 784])\n",
    "y_ = tf.placeholder(tf.float32, shape=[None, 10])\n",
    "x_image = tf.reshape(x, [-1,28,28,1])"
   ]
  },
  {
   "cell_type": "code",
   "execution_count": 5,
   "metadata": {
    "collapsed": true
   },
   "outputs": [],
   "source": [
    "# 이번에는 자주쓰는 함수들을 좀 더 간편하게 정의해보도록 하겠습니다 예를들어 weight를 초기화하려면\n",
    "# w1=tf.Variable(tf.truncated_normal(shape,stddev=0.1))처럼 복잡하게 되는데\n",
    "# 매번 이렇게 치려면 복잡하고 길어지기 때문에 줄여보겠습니다\n",
    "# 참고로 tf.truncated_normal(shape, mean=0.0, stddev=1.0, ..., name=None)은\n",
    "# 평균 얼마에 표준편차 얼마를 가지는 값들을 shape에 맞게 리턴해줍니다\n",
    "# bias도 위와 같이 간단하게 만들어줍니다\n",
    "\n",
    "def weight_variable(shape):\n",
    "  initial = tf.truncated_normal(shape, stddev=0.1)\n",
    "  return tf.Variable(initial)\n",
    "\n",
    "def bias_variable(shape):\n",
    "  initial = tf.constant(0.1, shape=shape)\n",
    "  return tf.Variable(initial)"
   ]
  },
  {
   "cell_type": "code",
   "execution_count": 6,
   "metadata": {
    "collapsed": true
   },
   "outputs": [],
   "source": [
    "# 이제 convolution 함수와 pooling 함수를 만들어 보겠습니다\n",
    "# 텐서플로우는 자체적으로 이 함수들을 제공하는데 들어가는 인자가 몇가지 있습니다\n",
    "# tf.nn.conv2d(input, filter, strides, padding, use_cudnn_on_gpu=None, data_format=None, name=None)\n",
    "# input -> [batch, in_height, in_width, in_channels]\n",
    "# filter -> [filter_height, filter_width, in_channels, out_channels]\n",
    "# strides -> [batch, in_height, in_width, in_channels]이고 [1,x,x,1]의 형태를 가집니다\n",
    "# padding -> \"same\" or \"valid\"로 same이면 인풋크기가 줄어들지 않습니다\n",
    "\n",
    "def conv2d(x, W):\n",
    "  return tf.nn.conv2d(x, W, strides=[1, 1, 1, 1], padding='SAME')"
   ]
  },
  {
   "cell_type": "code",
   "execution_count": 7,
   "metadata": {
    "collapsed": true
   },
   "outputs": [],
   "source": [
    "# tf.nn.max_pool(value, ksize, strides, padding, data_format='NHWC', name=None)\n",
    "# ksize는 한번 pool하는 범위, strides와 padding은 conv2d와 같습니다\n",
    "\n",
    "def max_pool_2x2(x):\n",
    "  return tf.nn.max_pool(x, ksize=[1, 2, 2, 1],\n",
    "                        strides=[1, 2, 2, 1], padding='SAME')"
   ]
  },
  {
   "cell_type": "code",
   "execution_count": 8,
   "metadata": {
    "collapsed": false
   },
   "outputs": [],
   "source": [
    "# 자 이제 준비가 되었으니 모델을 만들어보겠습니다\n",
    "# 형태는 간단히 (conv -> relu -> pool)*2 -> fc1 -> pool -> drop -> fc2 로 갑니다\n",
    "# 한단계 한단계씩 해보겠습니다. 첫번째 conv->relu->pool을 거치면 \n",
    "# 모양이 [-1,28,28,1]에서 [-1,14,14,32]가 됩니다\n",
    " \n",
    "W_conv1 = weight_variable([5, 5, 1, 32])  #사전정의 \n",
    "b_conv1 = bias_variable([32])\n",
    "\n",
    "h_conv1 = tf.nn.relu(conv2d(x_image, W_conv1) + b_conv1)\n",
    "h_pool1 = max_pool_2x2(h_conv1)"
   ]
  },
  {
   "cell_type": "code",
   "execution_count": 9,
   "metadata": {
    "collapsed": true
   },
   "outputs": [],
   "source": [
    "# 두번째 conv->relu->pool을 거치면 \n",
    "# 모양이 [-1,14,14,32]에서 [-1,7,7,64]가 됩니다\n",
    "\n",
    "W_conv2 = weight_variable([5, 5, 32, 64])\n",
    "b_conv2 = bias_variable([64])\n",
    "\n",
    "h_conv2 = tf.nn.relu(conv2d(h_pool1, W_conv2) + b_conv2)\n",
    "h_pool2 = max_pool_2x2(h_conv2)"
   ]
  },
  {
   "cell_type": "code",
   "execution_count": 10,
   "metadata": {
    "collapsed": true
   },
   "outputs": [],
   "source": [
    "# 이제 fc(fully connected layer)로 넘어갑니다\n",
    "# fc는 1차원 벡터를 사용하므로 conv를 통해 넘어온 input을 한줄로 reshape 해줍니다\n",
    "# 그러면 batch dimension은 유지되기 때문에 input은 [-1,7,7,64]에서 [-1,7*7*64]가 됩니다 \n",
    "# 그리고 fc를 거치면 [-1,7*7*64]에서 [-1,1024]가 됩니다\n",
    "\n",
    "W_fc1 = weight_variable([7 * 7 * 64, 1024])\n",
    "b_fc1 = bias_variable([1024])\n",
    "\n",
    "h_pool2_flat = tf.reshape(h_pool2, [-1, 7*7*64])\n",
    "h_fc1 = tf.nn.relu(tf.matmul(h_pool2_flat, W_fc1) + b_fc1)"
   ]
  },
  {
   "cell_type": "code",
   "execution_count": 11,
   "metadata": {
    "collapsed": true
   },
   "outputs": [],
   "source": [
    "# 여기서 한번 dropout을 해줍니다 \n",
    "# dropout은 regularization을 통해 overfitting을 막아주는 효과가 있습니다\n",
    "# 텐서플로우에서 dropout은 다음과 같이 구현되어 있습니다\n",
    "# tf.nn.dropout(x, keep_prob, noise_shape=None, seed=None, name=None)\n",
    "# keep_prob은 확률이므로 0~1의 값을 가집니다\n",
    "\n",
    "keep_prob = tf.placeholder(tf.float32)\n",
    "h_fc1_drop = tf.nn.dropout(h_fc1, keep_prob)"
   ]
  },
  {
   "cell_type": "code",
   "execution_count": 12,
   "metadata": {
    "collapsed": true
   },
   "outputs": [],
   "source": [
    "# 마지막으로 fc를 거칩니다\n",
    "\n",
    "W_fc2 = weight_variable([1024, 10])\n",
    "b_fc2 = bias_variable([10])\n",
    "\n",
    "y_conv = tf.matmul(h_fc1_drop, W_fc2) + b_fc2"
   ]
  },
  {
   "cell_type": "code",
   "execution_count": 13,
   "metadata": {
    "collapsed": true
   },
   "outputs": [],
   "source": [
    "# 이제 loss를 계산하고 최적화를 시킬 차례입니다\n",
    "# softmax를 통해 cross entropy loss를 계산하고 이를 AdamOptimizer로 최적화힙니다\n",
    "\n",
    "cross_entropy = tf.reduce_mean(tf.nn.softmax_cross_entropy_with_logits(y_conv, y_))\n",
    "train_step = tf.train.AdamOptimizer(1e-4).minimize(cross_entropy)"
   ]
  },
  {
   "cell_type": "code",
   "execution_count": 14,
   "metadata": {
    "collapsed": true
   },
   "outputs": [],
   "source": [
    "# 그리고 정확도를 계산하기 위해 예상값과 실제 라벨을 비교해 True/ False로 판별된 정보를\n",
    "# 0과 1로 바꿔 정확도를 계산합니다\n",
    "# tf.equal(x, y, name=None)\n",
    "# tf.argmax(input, axis=None, name=None, dimension=None) -> 가장 큰 값의 index\n",
    "\n",
    "correct_prediction = tf.equal(tf.argmax(y_conv,1), tf.argmax(y_,1))\n",
    "accuracy = tf.reduce_mean(tf.cast(correct_prediction, tf.float32))"
   ]
  },
  {
   "cell_type": "code",
   "execution_count": 15,
   "metadata": {
    "collapsed": true
   },
   "outputs": [],
   "source": [
    "# variable을 초기화 시켜줍니다\n",
    "# interactive session이기 때문에 operation.run() 하면 됩니다\n",
    "\n",
    "tf.global_variables_initializer().run()"
   ]
  },
  {
   "cell_type": "code",
   "execution_count": 16,
   "metadata": {
    "collapsed": false
   },
   "outputs": [
    {
     "name": "stdout",
     "output_type": "stream",
     "text": [
      "step 0, training accuracy 0.06\n",
      "step 100, training accuracy 0.84\n",
      "step 200, training accuracy 0.96\n",
      "step 300, training accuracy 0.86\n",
      "step 400, training accuracy 0.94\n",
      "step 500, training accuracy 0.9\n",
      "step 600, training accuracy 1\n",
      "step 700, training accuracy 0.94\n",
      "step 800, training accuracy 0.92\n",
      "step 900, training accuracy 1\n",
      "step 1000, training accuracy 0.96\n",
      "step 1100, training accuracy 0.94\n",
      "step 1200, training accuracy 0.94\n",
      "step 1300, training accuracy 0.98\n",
      "step 1400, training accuracy 1\n",
      "step 1500, training accuracy 1\n",
      "step 1600, training accuracy 0.96\n",
      "step 1700, training accuracy 1\n",
      "step 1800, training accuracy 0.94\n",
      "step 1900, training accuracy 1\n",
      "step 2000, training accuracy 1\n",
      "step 2100, training accuracy 0.98\n",
      "step 2200, training accuracy 0.96\n",
      "step 2300, training accuracy 1\n",
      "step 2400, training accuracy 0.96\n",
      "step 2500, training accuracy 1\n",
      "step 2600, training accuracy 1\n",
      "step 2700, training accuracy 1\n",
      "step 2800, training accuracy 1\n",
      "step 2900, training accuracy 0.98\n",
      "step 3000, training accuracy 1\n",
      "step 3100, training accuracy 0.98\n",
      "step 3200, training accuracy 0.96\n",
      "step 3300, training accuracy 1\n",
      "step 3400, training accuracy 1\n",
      "step 3500, training accuracy 1\n",
      "step 3600, training accuracy 0.98\n",
      "step 3700, training accuracy 0.98\n",
      "step 3800, training accuracy 1\n",
      "step 3900, training accuracy 1\n",
      "step 4000, training accuracy 1\n",
      "step 4100, training accuracy 0.98\n",
      "step 4200, training accuracy 0.98\n",
      "step 4300, training accuracy 1\n",
      "step 4400, training accuracy 1\n",
      "step 4500, training accuracy 1\n",
      "step 4600, training accuracy 0.98\n",
      "step 4700, training accuracy 0.98\n",
      "step 4800, training accuracy 1\n",
      "step 4900, training accuracy 1\n",
      "step 5000, training accuracy 1\n",
      "step 5100, training accuracy 0.98\n",
      "step 5200, training accuracy 1\n",
      "step 5300, training accuracy 1\n",
      "step 5400, training accuracy 1\n",
      "step 5500, training accuracy 0.96\n",
      "step 5600, training accuracy 1\n",
      "step 5700, training accuracy 1\n",
      "step 5800, training accuracy 1\n",
      "step 5900, training accuracy 1\n",
      "step 6000, training accuracy 0.98\n",
      "step 6100, training accuracy 0.98\n",
      "step 6200, training accuracy 1\n",
      "step 6300, training accuracy 0.98\n",
      "step 6400, training accuracy 0.96\n",
      "step 6500, training accuracy 1\n",
      "step 6600, training accuracy 1\n",
      "step 6700, training accuracy 0.98\n",
      "step 6800, training accuracy 0.96\n",
      "step 6900, training accuracy 0.98\n",
      "step 7000, training accuracy 1\n",
      "step 7100, training accuracy 0.98\n",
      "step 7200, training accuracy 0.98\n",
      "step 7300, training accuracy 1\n",
      "step 7400, training accuracy 1\n",
      "step 7500, training accuracy 0.98\n",
      "step 7600, training accuracy 0.98\n",
      "step 7700, training accuracy 1\n",
      "step 7800, training accuracy 0.98\n",
      "step 7900, training accuracy 1\n",
      "step 8000, training accuracy 0.98\n",
      "step 8100, training accuracy 0.98\n",
      "step 8200, training accuracy 0.98\n",
      "step 8300, training accuracy 1\n",
      "step 8400, training accuracy 1\n",
      "step 8500, training accuracy 1\n",
      "step 8600, training accuracy 1\n",
      "step 8700, training accuracy 1\n",
      "step 8800, training accuracy 1\n",
      "step 8900, training accuracy 1\n",
      "step 9000, training accuracy 1\n",
      "step 9100, training accuracy 1\n",
      "step 9200, training accuracy 1\n",
      "step 9300, training accuracy 1\n",
      "step 9400, training accuracy 1\n",
      "step 9500, training accuracy 1\n",
      "step 9600, training accuracy 1\n",
      "step 9700, training accuracy 1\n",
      "step 9800, training accuracy 0.98\n",
      "step 9900, training accuracy 1\n",
      "step 10000, training accuracy 1\n",
      "step 10100, training accuracy 0.98\n",
      "step 10200, training accuracy 1\n",
      "step 10300, training accuracy 1\n",
      "step 10400, training accuracy 1\n",
      "step 10500, training accuracy 1\n",
      "step 10600, training accuracy 1\n",
      "step 10700, training accuracy 1\n",
      "step 10800, training accuracy 1\n",
      "step 10900, training accuracy 1\n",
      "step 11000, training accuracy 1\n",
      "step 11100, training accuracy 1\n",
      "step 11200, training accuracy 0.98\n",
      "step 11300, training accuracy 1\n",
      "step 11400, training accuracy 1\n",
      "step 11500, training accuracy 1\n",
      "step 11600, training accuracy 0.98\n",
      "step 11700, training accuracy 1\n",
      "step 11800, training accuracy 1\n",
      "step 11900, training accuracy 1\n",
      "step 12000, training accuracy 1\n",
      "step 12100, training accuracy 1\n",
      "step 12200, training accuracy 1\n",
      "step 12300, training accuracy 1\n",
      "step 12400, training accuracy 1\n",
      "step 12500, training accuracy 1\n",
      "step 12600, training accuracy 1\n",
      "step 12700, training accuracy 1\n",
      "step 12800, training accuracy 1\n",
      "step 12900, training accuracy 1\n",
      "step 13000, training accuracy 1\n",
      "step 13100, training accuracy 1\n",
      "step 13200, training accuracy 0.98\n",
      "step 13300, training accuracy 1\n",
      "step 13400, training accuracy 1\n",
      "step 13500, training accuracy 1\n",
      "step 13600, training accuracy 1\n",
      "step 13700, training accuracy 1\n",
      "step 13800, training accuracy 0.98\n",
      "step 13900, training accuracy 0.98\n",
      "step 14000, training accuracy 1\n",
      "step 14100, training accuracy 1\n",
      "step 14200, training accuracy 0.98\n",
      "step 14300, training accuracy 1\n",
      "step 14400, training accuracy 1\n",
      "step 14500, training accuracy 1\n",
      "step 14600, training accuracy 1\n",
      "step 14700, training accuracy 1\n",
      "step 14800, training accuracy 1\n",
      "step 14900, training accuracy 1\n",
      "step 15000, training accuracy 1\n",
      "step 15100, training accuracy 1\n",
      "step 15200, training accuracy 1\n",
      "step 15300, training accuracy 1\n",
      "step 15400, training accuracy 1\n",
      "step 15500, training accuracy 1\n",
      "step 15600, training accuracy 1\n",
      "step 15700, training accuracy 1\n",
      "step 15800, training accuracy 1\n",
      "step 15900, training accuracy 1\n",
      "step 16000, training accuracy 1\n",
      "step 16100, training accuracy 1\n",
      "step 16200, training accuracy 1\n",
      "step 16300, training accuracy 1\n",
      "step 16400, training accuracy 1\n",
      "step 16500, training accuracy 1\n",
      "step 16600, training accuracy 1\n",
      "step 16700, training accuracy 1\n",
      "step 16800, training accuracy 1\n",
      "step 16900, training accuracy 1\n",
      "step 17000, training accuracy 1\n",
      "step 17100, training accuracy 1\n",
      "step 17200, training accuracy 1\n",
      "step 17300, training accuracy 1\n",
      "step 17400, training accuracy 1\n",
      "step 17500, training accuracy 1\n",
      "step 17600, training accuracy 1\n",
      "step 17700, training accuracy 1\n",
      "step 17800, training accuracy 1\n",
      "step 17900, training accuracy 1\n",
      "step 18000, training accuracy 1\n",
      "step 18100, training accuracy 1\n",
      "step 18200, training accuracy 1\n",
      "step 18300, training accuracy 1\n",
      "step 18400, training accuracy 1\n",
      "step 18500, training accuracy 1\n",
      "step 18600, training accuracy 1\n",
      "step 18700, training accuracy 1\n",
      "step 18800, training accuracy 1\n",
      "step 18900, training accuracy 1\n",
      "step 19000, training accuracy 1\n",
      "step 19100, training accuracy 1\n",
      "step 19200, training accuracy 1\n",
      "step 19300, training accuracy 1\n",
      "step 19400, training accuracy 1\n",
      "step 19500, training accuracy 1\n",
      "step 19600, training accuracy 1\n",
      "step 19700, training accuracy 1\n",
      "step 19800, training accuracy 1\n",
      "step 19900, training accuracy 1\n"
     ]
    }
   ],
   "source": [
    "# 이제 실제 학습을 시켜보겠습니다\n",
    "# 한번에 다 돌릴 수 없기 때문에 batch를 사용하는데 mnist에는 친절하게\n",
    "# mnist.train.next_batch(#)가 구현되어 있습니다 하지만 다른 데이터를 쓸때는\n",
    "# 전체 데이터를 분할해서 차례대로 feed_dict를 통해 넘겨줘야 합니다\n",
    "# feed_dict={x: , y: , keep_prob: }를 인자로 전달합니다\n",
    "# 100번마다 정확도도 출력해줍니다\n",
    "\n",
    "for i in range(20000):\n",
    "\tbatch = mnist.train.next_batch(50)\n",
    "\tif i%100 == 0:\n",
    "\t\ttrain_accuracy = accuracy.eval(feed_dict={x:batch[0], y_: batch[1], keep_prob: 1.0})\n",
    "\t\tprint(\"step %d, training accuracy %g\"%(i, train_accuracy))\n",
    "\ttrain_step.run(feed_dict={x: batch[0], y_: batch[1], keep_prob: 0.5})"
   ]
  },
  {
   "cell_type": "code",
   "execution_count": 18,
   "metadata": {
    "collapsed": false
   },
   "outputs": [
    {
     "name": "stdout",
     "output_type": "stream",
     "text": [
      "test accuracy: 0.991100\n"
     ]
    }
   ],
   "source": [
    "# 마지막으로 test data를 불러와서 얼마나 학습이 되었는지 확인해봅니다\n",
    "# 그냥 돌리면 제 노트북의 메모리가 터지기 때문에 분할해서 평균을 내보도록 하겠습니다\n",
    "\n",
    "batch_size=200\n",
    "acc_total=0\n",
    "\n",
    "j=0\n",
    "while j<len(mnist.test.images):\n",
    "    test_input = mnist.test.images[j:j+batch_size]\n",
    "    test_output= mnist.test.labels[j:j+batch_size]\n",
    "    batch_acc=accuracy.eval(feed_dict={x: test_input, y_: test_output, keep_prob: 1.0})\n",
    "    acc_total+=batch_acc\n",
    "    j+=batch_size  \n",
    "    \n",
    "num_ops=len(mnist.test.images)/batch_size\n",
    "print(\"test accuracy: %f\"% (acc_total/num_ops))"
   ]
  }
 ],
 "metadata": {
  "kernelspec": {
   "display_name": "Python 2",
   "language": "python",
   "name": "python2"
  },
  "language_info": {
   "codemirror_mode": {
    "name": "ipython",
    "version": 2
   },
   "file_extension": ".py",
   "mimetype": "text/x-python",
   "name": "python",
   "nbconvert_exporter": "python",
   "pygments_lexer": "ipython2",
   "version": "2.7.13"
  }
 },
 "nbformat": 4,
 "nbformat_minor": 1
}
