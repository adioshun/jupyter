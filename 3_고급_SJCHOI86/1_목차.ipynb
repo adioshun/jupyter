{
 "cells": [
  {
   "cell_type": "markdown",
   "metadata": {
    "deletable": true,
    "editable": true
   },
   "source": [
    "# Tensorflow Tutorials using Jupyter Notebook \n",
    "\n",
    "TensorFlow tutorials written in Python (of course) with Jupyter Notebook. Tried to explain as kindly as possible, as these tutorials are intended for TensorFlow beginners. Hope these tutorials to be a useful recipe book for your deep learning projects. Enjoy coding! :) \n",
    "\n",
    "## Contents\n",
    "1. Basics of [TensorFlow](http://128.46.80.28:8585/tree/3_고급_SJCHOI86/basic_tensorflow.ipynb) / [MNIST](http://128.46.80.28:8585/tree/3_고급_SJCHOI86/basic_mnist.ipynb) / [Numpy](http://128.46.80.28:8585/tree/3_고급_SJCHOI86/basic_python.ipynb)  / [Image Processing](http://128.46.80.28:8585/tree/3_고급_SJCHOI86/basic_imgprocess.ipynb) / [Generating Custom Dataset](http://128.46.80.28:8585/tree/3_고급_SJCHOI86/basic_gendataset.ipynb)\n",
    "2. Machine Learing Basics with TensorFlow: [Linear Regression](http://128.46.80.28:8585/tree/3_고급_SJCHOI86/linear_regression.ipynb) / [Logistic Regression with MNIST](http://128.46.80.28:8585/tree/3_고급_SJCHOI86/logistic_regression_mnist.ipynb) / [Logistic Regression with Custom Dataset](http://128.46.80.28:8585/tree/3_고급_SJCHOI86/logistic_regression_customdata.ipynb)\n",
    "3. Multi-Layer Perceptron (MLP): [Simple MNIST](http://128.46.80.28:8585/tree/3_고급_SJCHOI86/mlp_mnist_simple.ipynb) / [Deeper MNIST](http://128.46.80.28:8585/tree/3_고급_SJCHOI86/mlp_mnist_deeper.ipynb) / [Xavier Init MNIST](http://128.46.80.28:8585/tree/3_고급_SJCHOI86/mlp_mnist_xavier.ipynb) / [Custom Dataset](http://128.46.80.28:8585/tree/3_고급_SJCHOI86/mlp_customdata_basic.ipynb)\n",
    "4. Convolutional Neural Network (CNN): [Simple MNIST](http://128.46.80.28:8585/tree/3_고급_SJCHOI86/cnn_mnist_simple.ipynb) / [Deeper MNIST](http://128.46.80.28:8585/tree/3_고급_SJCHOI86/cnn_mnist_basic.ipynb) / [Simple Custom Dataset](http://128.46.80.28:8585/tree/3_고급_SJCHOI86/cnn_customdata_simple.ipynb) / [Basic Custom Dataset](http://128.46.80.28:8585/tree/3_고급_SJCHOI86/cnn_customdata_basic.ipynb)\n",
    "5. Using Pre-trained Model (VGG): [Simple Usage](http://128.46.80.28:8585/tree/3_고급_SJCHOI86/use_vgg.ipynb) / [CNN Fine-tuning on Custom Dataset](http://128.46.80.28:8585/tree/3_고급_SJCHOI86/cnn_customdata_vgg_finetune.ipynb)\n",
    "6. Recurrent Neural Network (RNN): [Simple MNIST](http://128.46.80.28:8585/tree/3_고급_SJCHOI86/rnn_mnist_simple.ipynb) / [Char-RNN Train](http://128.46.80.28:8585/tree/3_고급_SJCHOI86/char_rnn_train_tutorial.ipynb) / [Char-RNN Sample](http://128.46.80.28:8585/tree/3_고급_SJCHOI86/char_rnn_sample_tutorial.ipynb) / [Hangul-RNN Train](http://128.46.80.28:8585/tree/3_고급_SJCHOI86/char_rnn_train_hangul.ipynb) / [Hangul-RNN Sample](http://128.46.80.28:8585/tree/3_고급_SJCHOI86/char_rnn_sample_hangul.ipynb)\n",
    "7. Word Embedding (Word2Vec): [Simple Version](http://128.46.80.28:8585/tree/3_고급_SJCHOI86/word2vec_simple.ipynb) / [Complex Version](http://128.46.80.28:8585/tree/3_고급_SJCHOI86/word2vec_basic.ipynb)\n",
    "8. Auto-Encoder Model: [Simple Auto-Encoder](http://128.46.80.28:8585/tree/3_고급_SJCHOI86/dae_mnist.ipynb) / [Denoising Auto-Encoder](http://128.46.80.28:8585/tree/3_고급_SJCHOI86/dae_mnist_dropout.ipynb) / [Convolutional Auto-Encoder (deconvolution)](http://128.46.80.28:8585/tree/3_고급_SJCHOI86/cae_mnist.ipynb)\n",
    "9. Class Activation Map (CAM): [Global Average Pooling on MNIST](http://128.46.80.28:8585/tree/3_고급_SJCHOI86/gap_mnist.ipynb)\n",
    "10. TensorBoard Usage: [Linear Regression](http://128.46.80.28:8585/tree/3_고급_SJCHOI86/vis_linear_regression.ipynb) / [MLP](http://128.46.80.28:8585/tree/3_고급_SJCHOI86/vis_mlp_mnist.ipynb) / [CNN](http://128.46.80.28:8585/tree/3_고급_SJCHOI86/vis_cnn_mnist.ipynb) \n",
    "11. [Semantic segmentation](http://128.46.80.28:8585/tree/3_고급_SJCHOI86/semseg_basic.ipynb)\n",
    "12. [Super resolution (in progress)](http://128.46.80.28:8585/tree/3_고급_SJCHOI86/superres_cnn.ipynb)\n",
    "13. [Web crawler](http://128.46.80.28:8585/tree/3_고급_SJCHOI86/webcrawling_naverstock.ipynb)\n",
    "14. [Gaussian process regression](http://128.46.80.28:8585/tree/3_고급_SJCHOI86/gp_demo.ipynb)\n",
    "15. [Neural Style](http://128.46.80.28:8585/tree/3_고급_SJCHOI86/neural_style.ipynb)\n",
    "16. [Face detection with OpenCV](http://128.46.80.28:8585/tree/3_고급_SJCHOI86/basic_opencv2.ipynb)\n",
    "\n",
    "## Requirements\n",
    "- TensorFlow\n",
    "- Numpy\n",
    "- SciPy\n",
    "- Pillow\n",
    "- BeautifulSoup\n",
    "- [Pretrained VGG](http://www.vlfeat.org/matconvnet/models/beta16/imagenet-vgg-verydeep-19.mat): inside 'data/' folder\n",
    "\n",
    "## Note\n",
    "Most of the codes are simple refactorings of [Aymeric Damien's Tutorial](https://github.com/aymericdamien/TensorFlow-Examples/) or [Nathan Lintz's Tutorial](https://github.com/nlintz/TensorFlow-Tutorials). \n",
    "There could be missing credits. Please let me know. \n",
    "\n",
    "#### Collected and Modifyed by [Sungjoon](http://enginius.tistory.com) \n",
    "[info](http://cpslab.snu.ac.kr/people/sungjoon-choi)\n"
   ]
  }
 ],
 "metadata": {
  "kernelspec": {
   "display_name": "Python 2",
   "language": "python",
   "name": "python2"
  },
  "language_info": {
   "codemirror_mode": {
    "name": "ipython",
    "version": 2
   },
   "file_extension": ".py",
   "mimetype": "text/x-python",
   "name": "python",
   "nbconvert_exporter": "python",
   "pygments_lexer": "ipython2",
   "version": "2.7.12"
  },
  "toc": {
   "colors": {
    "hover_highlight": "#DAA520",
    "running_highlight": "#FF0000",
    "selected_highlight": "#FFD700"
   },
   "moveMenuLeft": true,
   "nav_menu": {
    "height": "117px",
    "width": "252px"
   },
   "navigate_menu": true,
   "number_sections": true,
   "sideBar": true,
   "threshold": 4,
   "toc_cell": false,
   "toc_section_display": "block",
   "toc_window_display": false
  }
 },
 "nbformat": 4,
 "nbformat_minor": 2
}
