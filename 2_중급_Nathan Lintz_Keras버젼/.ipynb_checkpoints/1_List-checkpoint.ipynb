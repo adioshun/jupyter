{
 "cells": [
  {
   "cell_type": "markdown",
   "metadata": {},
   "source": [
    "# Keras-Tutorials\n",
    "\n",
    "Introduction to deep learning based on Keras framework. These tutorials are direct ports of nlintz's [TensorFlow Tutorials](https://github.com/nlintz/TensorFlow-Tutorials).\n",
    "\n",
    "*Basic Topics (from nlint'z github)*\n",
    "\n",
    "* Linear Regression ([code](https://github.com/tgjeon/Keras-Tutorials/blob/master/01_linear_regression.py), [notebook](https://github.com/tgjeon/Keras-Tutorials/blob/master/01_linear_regression.ipynb))\n",
    "* Logistic Regression ([code](https://github.com/tgjeon/Keras-Tutorials/blob/master/02_logistic_regression.py), [notebook](https://github.com/tgjeon/Keras-Tutorials/blob/master/02_logistic_regression.ipynb))\n",
    "* Feedforward Neural Network (Multilayer Perceptron) ([code](https://github.com/tgjeon/Keras-Tutorials/blob/master/03_net.py), [notebook](https://github.com/tgjeon/Keras-Tutorials/blob/master/03_net.ipynb))\n",
    "* Deep Feedforward Neural Network (Multilayer Perceptron with 2 Hidden Layers O.o) ([code](https://github.com/tgjeon/Keras-Tutorials/blob/master/04_modern_net.py), [notebook](https://github.com/tgjeon/Keras-Tutorials/blob/master/04_modern_net.ipynb))\n",
    "* Convolutional Neural Network ([code](https://github.com/tgjeon/Keras-Tutorials/blob/master/05_convolutional_net.py), [notebook](https://github.com/tgjeon/Keras-Tutorials/blob/master/05_convolutional_net.ipynb))\n",
    "* Denoising Autoencoder ([code](https://github.com/tgjeon/Keras-Tutorials/blob/master/06_autoencoder.py), [notebook](https://github.com/tgjeon/Keras-Tutorials/blob/master/06_autoencoder.ipynb))\n",
    "* Recurrent Neural Network (LSTM) ([code](https://github.com/tgjeon/Keras-Tutorials/blob/master/07_lstm.py), [notebook](https://github.com/tgjeon/Keras-Tutorials/blob/master/07_lstm.ipynb))\n",
    "* Word2vec\n",
    "* TensorBoard ([code](https://github.com/tgjeon/Keras-Tutorials/blob/master/09_tensorboard.py), [notebook](https://github.com/tgjeon/Keras-Tutorials/blob/master/09_tensorboard.ipynb))\n",
    "* Save and restore net ([code](https://github.com/tgjeon/Keras-Tutorials/blob/master/10_save_restore_net.py), [notebook](https://github.com/tgjeon/Keras-Tutorials/blob/master/10_save_restore_net.ipynb))\n",
    "\n",
    "*Advanced Topics*\n",
    "\n",
    "* Image classification\n",
    "* Object detection\n",
    "* Super-Resolution\n",
    "* Image captioning\n",
    "* Semantic segmentation\n",
    "\n",
    "\n",
    "\n",
    "*Note*\n",
    "* [Deep Learning Glossary](https://github.com/tgjeon/Keras-Tutorials/blob/master/DeepLearningGlossary.md) (for Korean)\n",
    ": This documentation is translated from blog post on wildml.com (with author's permission)\n",
    "\n",
    "*Dependencies*\n",
    "* [Keras](https://github.com/fchollet/keras)\n",
    "* [TensorFlow](https://github.com/tensorflow/tensorflow)\n",
    "\n"
   ]
  }
 ],
 "metadata": {
  "kernelspec": {
   "display_name": "Python 2",
   "language": "python",
   "name": "python2"
  },
  "language_info": {
   "codemirror_mode": {
    "name": "ipython",
    "version": 2
   },
   "file_extension": ".py",
   "mimetype": "text/x-python",
   "name": "python",
   "nbconvert_exporter": "python",
   "pygments_lexer": "ipython2",
   "version": "2.7.12"
  },
  "toc": {
   "colors": {
    "hover_highlight": "#DAA520",
    "running_highlight": "#FF0000",
    "selected_highlight": "#FFD700"
   },
   "moveMenuLeft": true,
   "nav_menu": {
    "height": "30px",
    "width": "252px"
   },
   "navigate_menu": true,
   "number_sections": true,
   "sideBar": true,
   "threshold": 4,
   "toc_cell": false,
   "toc_section_display": "block",
   "toc_window_display": false
  }
 },
 "nbformat": 4,
 "nbformat_minor": 2
}
